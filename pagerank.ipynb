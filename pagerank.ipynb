{
 "cells": [
  {
   "cell_type": "markdown",
   "metadata": {},
   "source": [
    "# 빅데이터처리\n",
    "## Week06_Quiz\n",
    "### 2016003709 윤가영"
   ]
  },
  {
   "cell_type": "code",
   "execution_count": 1,
   "metadata": {},
   "outputs": [],
   "source": [
    "# To find out where the pyspark\n",
    "import findspark\n",
    "findspark.init()"
   ]
  },
  {
   "cell_type": "code",
   "execution_count": 2,
   "metadata": {},
   "outputs": [],
   "source": [
    "# Creating Spark Context\n",
    "from pyspark import SparkContext\n",
    "sc = SparkContext(\"local\", \"first app\")"
   ]
  },
  {
   "cell_type": "code",
   "execution_count": 3,
   "metadata": {},
   "outputs": [],
   "source": [
    "import matplotlib.pyplot as plt\n",
    "import numpy as np\n",
    "import math\n",
    "import time"
   ]
  },
  {
   "cell_type": "code",
   "execution_count": 4,
   "metadata": {},
   "outputs": [],
   "source": [
    "def create_setdata(ss):\n",
    "    record = set()\n",
    "    for i in ss:\n",
    "        if i not in record:\n",
    "            record.add(i)\n",
    "        else:\n",
    "            yield record\n",
    "            record = set()\n",
    "    if not record:\n",
    "        yield record"
   ]
  },
  {
   "cell_type": "code",
   "execution_count": 5,
   "metadata": {},
   "outputs": [],
   "source": [
    "def create_dataset(N):\n",
    "    \"\"\"\n",
    "    N개의 집합 데이터 생성 (D = 사전 사이즈)\n",
    "    \"\"\"\n",
    "    \n",
    "    while True:\n",
    "        s = np.random.default_rng().zipf(1.2, N*10*10)\n",
    "        dataset = list(create_setdata(s[s<N]))\n",
    "        if len(dataset) >= N:\n",
    "            break\n",
    "        \n",
    "    ids = range(N)\n",
    "    return [(i, s) for i, s in zip(ids, dataset[:N])]"
   ]
  },
  {
   "cell_type": "code",
   "execution_count": 6,
   "metadata": {},
   "outputs": [],
   "source": [
    "def add(x,y):\n",
    "    return x+y"
   ]
  },
  {
   "cell_type": "markdown",
   "metadata": {},
   "source": [
    "#### outgoing link가 없어 사라진 node 추가하는 함수"
   ]
  },
  {
   "cell_type": "code",
   "execution_count": 7,
   "metadata": {},
   "outputs": [],
   "source": [
    "def maker(itr, N):\n",
    "    for i in range(N):\n",
    "        flag = 0\n",
    "        for it in itr:\n",
    "            if(i == it[0]):\n",
    "                flag = 1\n",
    "                break\n",
    "        if(flag == 0):\n",
    "            itr.append((i,0))\n",
    "    return itr"
   ]
  },
  {
   "cell_type": "markdown",
   "metadata": {},
   "source": [
    "#### Quiz 해답"
   ]
  },
  {
   "cell_type": "code",
   "execution_count": 8,
   "metadata": {},
   "outputs": [],
   "source": [
    "def Quiz1(dataset, N, d, convergenceTol):\n",
    "    start = time.time()\n",
    "    \n",
    "    pr = sc.broadcast([ 1. / float(N) for _ in range(N) ])\n",
    "    inputRDD = sc.parallelize(dataset).cache()\n",
    "    \n",
    "    while True:\n",
    "        itr = inputRDD.flatMap(lambda t: [ (target, pr.value[t[0]] / len(t[1])) for target in t[1] ]) \n",
    "        itr = itr.reduceByKey(add).collect()\n",
    "        itr = sorted(maker(itr, N))\n",
    "        itr = sc.parallelize(itr).mapValues(lambda v: d*v + 1/N * (1-d)).cache()\n",
    "        \n",
    "        # test convergence\n",
    "        err = itr.map(lambda t: abs(pr.value[t[0]] - t[1])).sum() / N\n",
    "        if err < convergenceTol:\n",
    "            pr = itr.map(lambda t: t[1]).collect()\n",
    "            break\n",
    "        \n",
    "        # broacast current pagerank values\n",
    "        pr = sc.broadcast(itr.map(lambda t: t[1]).collect())\n",
    "    \n",
    "    end = time.time()\n",
    "    return end - start"
   ]
  },
  {
   "cell_type": "markdown",
   "metadata": {},
   "source": [
    "#### Quiz 실행코드"
   ]
  },
  {
   "cell_type": "code",
   "execution_count": 9,
   "metadata": {},
   "outputs": [],
   "source": [
    "X = [4, 1000, 2000, 4000, 8000, 16000]"
   ]
  },
  {
   "cell_type": "code",
   "execution_count": 10,
   "metadata": {},
   "outputs": [
    {
     "name": "stdout",
     "output_type": "stream",
     "text": [
      "[Dataset: 4]\n",
      "\n",
      "duration : 4.517955303192139\n",
      "\n",
      "[Dataset: 1000]\n",
      "\n",
      "duration : 0.9830420017242432\n",
      "\n",
      "[Dataset: 2000]\n",
      "\n",
      "duration : 1.2023205757141113\n",
      "\n",
      "[Dataset: 4000]\n",
      "\n",
      "duration : 2.920482635498047\n",
      "\n",
      "[Dataset: 8000]\n",
      "\n",
      "duration : 10.3979811668396\n",
      "\n",
      "[Dataset: 16000]\n",
      "\n",
      "duration : 31.52363657951355\n",
      "\n"
     ]
    }
   ],
   "source": [
    "durations = []\n",
    "for i in range(6):\n",
    "    print(\"[Dataset: {}]\".format(X[i]))\n",
    "    print()\n",
    "    \n",
    "    dataset = create_dataset(X[i])\n",
    "    duration = Quiz1(dataset, X[i], 0.85, 0.05)\n",
    "\n",
    "    print(\"duration : {}\".format(duration))\n",
    "    print()\n",
    "\n",
    "    durations.append(duration)"
   ]
  },
  {
   "cell_type": "markdown",
   "metadata": {},
   "source": [
    "#### 그래프"
   ]
  },
  {
   "cell_type": "code",
   "execution_count": 11,
   "metadata": {},
   "outputs": [
    {
     "data": {
      "image/png": "[encoded data removed]",
      "text/plain": [
       "<Figure size 432x288 with 1 Axes>"
      ]
     },
     "metadata": {
      "needs_background": "light"
     },
     "output_type": "display_data"
    }
   ],
   "source": [
    "plt.plot(X[1:], durations[1:], marker = 'o')\n",
    "plt.xlabel(\"Number of datapoints\")\n",
    "plt.ylabel(\"Execution time\")\n",
    "\n",
    "plt.show()"
   ]
  }
 ],
 "metadata": {
  "kernelspec": {
   "display_name": "Python 3",
   "language": "python",
   "name": "python3"
  },
  "language_info": {
   "codemirror_mode": {
    "name": "ipython",
    "version": 3
   },
   "file_extension": ".py",
   "mimetype": "text/x-python",
   "name": "python",
   "nbconvert_exporter": "python",
   "pygments_lexer": "ipython3",
   "version": "3.6.9"
  }
 },
 "nbformat": 4,
 "nbformat_minor": 4
}
