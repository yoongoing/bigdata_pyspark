{
 "cells": [
  {
   "cell_type": "code",
   "execution_count": 1,
   "metadata": {},
   "outputs": [],
   "source": [
    "# To find out where the pyspark\n",
    "import findspark\n",
    "findspark.init()"
   ]
  },
  {
   "cell_type": "code",
   "execution_count": 2,
   "metadata": {},
   "outputs": [],
   "source": [
    "# Creating Spark Context\n",
    "from pyspark import SparkContext\n",
    "sc = SparkContext(\"local\", \"first app\")"
   ]
  },
  {
   "cell_type": "code",
   "execution_count": 3,
   "metadata": {},
   "outputs": [],
   "source": [
    "import matplotlib.pyplot as plt\n",
    "import numpy as np\n",
    "import math\n",
    "import time"
   ]
  },
  {
   "cell_type": "markdown",
   "metadata": {},
   "source": [
    "#### 데이터셋 생성"
   ]
  },
  {
   "cell_type": "code",
   "execution_count": 4,
   "metadata": {},
   "outputs": [],
   "source": [
    "def create_setdata(ss):\n",
    "    record = set()\n",
    "    for i in ss:\n",
    "        if i not in record:\n",
    "            record.add(i)\n",
    "        else:\n",
    "            yield record\n",
    "            record = set()\n",
    "    if not record:\n",
    "        yield record"
   ]
  },
  {
   "cell_type": "code",
   "execution_count": 5,
   "metadata": {},
   "outputs": [],
   "source": [
    "def create_dataset(N):\n",
    "    \"\"\"\n",
    "    N개의 집합 데이터 생성 (D = 사전 사이즈)\n",
    "    \"\"\"\n",
    "    \n",
    "    while True:\n",
    "        s = np.random.default_rng().zipf(1.2, N*10*10)\n",
    "        dataset = list(create_setdata(s[s<N]))\n",
    "        if len(dataset) >= N:\n",
    "            break\n",
    "        \n",
    "    ids = range(N)\n",
    "    return [(i, s) for i, s in zip(ids, dataset[:N])]"
   ]
  },
  {
   "cell_type": "markdown",
   "metadata": {},
   "source": [
    "#### Destination의 id에 따라 블럭 지정"
   ]
  },
  {
   "cell_type": "code",
   "execution_count": 6,
   "metadata": {},
   "outputs": [],
   "source": [
    "def pr_map(t, block):\n",
    "    result = []\n",
    "    for target in t[1]:\n",
    "        block_id = int(target / int(20000/block))\n",
    "        yield(block_id, (target, (pr.value[t[0]] / len(t[1]))))"
   ]
  },
  {
   "cell_type": "markdown",
   "metadata": {},
   "source": [
    "#### 해당 인덱스에 값 업데이트"
   ]
  },
  {
   "cell_type": "code",
   "execution_count": 7,
   "metadata": {},
   "outputs": [],
   "source": [
    "def pr_red(t, block):\n",
    "    \n",
    "    block_id, it = t\n",
    "    B_height = int(20000/block)\n",
    "    \n",
    "    D = [0 for i in range(20000)]\n",
    "    pr = [0 for i in range(20000)]\n",
    "    \n",
    "    for dest, prob in it:\n",
    "        D[dest] += prob\n",
    "\n",
    "    for B_idx in range(B_height):\n",
    "        i = B_idx + block_id * B_height\n",
    "        pr[i] = (0.85*D[i]) + (1/20000 * (1-0.85))\n",
    "        yield((i, pr[i]))"
   ]
  },
  {
   "cell_type": "code",
   "execution_count": 8,
   "metadata": {},
   "outputs": [],
   "source": [
    "block = [16, 8, 4, 2, 1]\n",
    "maxIter = 20"
   ]
  },
  {
   "cell_type": "code",
   "execution_count": 9,
   "metadata": {},
   "outputs": [],
   "source": [
    "dataset = create_dataset(20000)"
   ]
  },
  {
   "cell_type": "code",
   "execution_count": 10,
   "metadata": {},
   "outputs": [],
   "source": [
    "result = []"
   ]
  },
  {
   "cell_type": "code",
   "execution_count": 13,
   "metadata": {},
   "outputs": [
    {
     "name": "stdout",
     "output_type": "stream",
     "text": [
      "# of block : 16\n",
      "duration : 44.45093488693237\n",
      "\n",
      "# of block : 8\n",
      "duration : 40.66400098800659\n",
      "\n",
      "# of block : 4\n",
      "duration : 42.10488748550415\n",
      "\n",
      "# of block : 2\n",
      "duration : 40.16887283325195\n",
      "\n",
      "# of block : 1\n",
      "duration : 40.32513880729675\n",
      "\n"
     ]
    }
   ],
   "source": [
    "for b in block:\n",
    "    start = time.time()\n",
    "    \n",
    "    inputRDD = sc.parallelize(dataset)\n",
    "    pr = sc.broadcast([ 1. / float(20000) for _ in range(20000) ])\n",
    "    \n",
    "    for _ in range (maxIter):\n",
    "        itr = inputRDD.flatMap(lambda t: pr_map(t, b)).groupByKey()\\\n",
    "                      .flatMap(lambda t: pr_red(t, b)).map(lambda v: v[1]).collect()\n",
    "        pr = sc.broadcast(itr)\n",
    "       \n",
    "    end = time.time()\n",
    "    duration = end - start\n",
    "    result.append(end-start)\n",
    "    \n",
    "    \n",
    "    print(\"# of block : {}\".format(b))\n",
    "    print(\"duration : {}\".format(duration))\n",
    "    print()"
   ]
  },
  {
   "cell_type": "markdown",
   "metadata": {},
   "source": [
    "#### 그래프"
   ]
  },
  {
   "cell_type": "code",
   "execution_count": 16,
   "metadata": {},
   "outputs": [
    {
     "data": {
      "image/png": "[encoded data removed]",
      "text/plain": [
       "<Figure size 432x288 with 1 Axes>"
      ]
     },
     "metadata": {
      "needs_background": "light"
     },
     "output_type": "display_data"
    }
   ],
   "source": [
    "plt.plot(block, result, marker = 'o')\n",
    "plt.xlabel(\"Number of blocks\")\n",
    "plt.ylabel(\"Execution time\")\n",
    "\n",
    "plt.yscale('log')\n",
    "plt.show()"
   ]
  }
 ],
 "metadata": {
  "kernelspec": {
   "display_name": "Python 3",
   "language": "python",
   "name": "python3"
  },
  "language_info": {
   "codemirror_mode": {
    "name": "ipython",
    "version": 3
   },
   "file_extension": ".py",
   "mimetype": "text/x-python",
   "name": "python",
   "nbconvert_exporter": "python",
   "pygments_lexer": "ipython3",
   "version": "3.6.9"
  }
 },
 "nbformat": 4,
 "nbformat_minor": 4
}
