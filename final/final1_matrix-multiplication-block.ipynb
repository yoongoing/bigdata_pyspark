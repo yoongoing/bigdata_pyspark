{
 "cells": [
  {
   "cell_type": "code",
   "execution_count": 1,
   "metadata": {},
   "outputs": [],
   "source": [
    "import findspark\n",
    "findspark.init()\n",
    "\n",
    "# create spark session\n",
    "from pyspark.sql import SparkSession\n",
    "spark = SparkSession.builder.appName(\"my app\").master(\"local[4]\").getOrCreate()\n",
    "\n",
    "# get context from the session\n",
    "sc = spark.sparkContext"
   ]
  },
  {
   "cell_type": "code",
   "execution_count": 11,
   "metadata": {},
   "outputs": [],
   "source": [
    "Afile = 'A1600x800.txt'\n",
    "Bfile = 'B800x80.txt'\n",
    "Asize = [1600, 800]\n",
    "Bsize = [800, 80]\n",
    "X = 10\n",
    "Y = 10"
   ]
  },
  {
   "cell_type": "code",
   "execution_count": 3,
   "metadata": {},
   "outputs": [],
   "source": [
    "rdd1 = sc.textFile(Afile).union(sc.textFile(Bfile)).map(lambda t: tuple(t.split(',')))"
   ]
  },
  {
   "cell_type": "code",
   "execution_count": 4,
   "metadata": {},
   "outputs": [],
   "source": [
    "def matmul_map(t):\n",
    "    name, i, j, v = t\n",
    "    # naive assumption: sizes are multiples of X and Y\n",
    "    X_range = int(Asize[0] / X)\n",
    "    Y_range = int(Bsize[1] / Y)\n",
    "    i_block = int(int(i) / X_range)\n",
    "    j_block = int(int(j) / Y_range)\n",
    "    if name == \"A\":  \n",
    "        for k_block in range(Y):\n",
    "            yield ((i_block, k_block), ('A', int(i), int(j), float(v)))\n",
    "    else:\n",
    "        for k_block in range(X):\n",
    "            yield ((k_block, j_block), ('B', int(i), int(j), float(v)))"
   ]
  },
  {
   "cell_type": "code",
   "execution_count": 5,
   "metadata": {},
   "outputs": [],
   "source": [
    "def matmul_red(t):\n",
    "    key, it = t\n",
    "    X_height = int(Asize[0] / X)\n",
    "    Y_width = int(Bsize[1] / Y)\n",
    "    tmpA = {}\n",
    "    tmpB = {}\n",
    "    for name, i, j, v in it:\n",
    "        if name == 'A':\n",
    "            tmpA[(i, j)] = v\n",
    "        else:\n",
    "            tmpB[(i, j)] = v\n",
    "\n",
    "    for i_idx in range(X_height):\n",
    "        for j_idx in range(Y_width):\n",
    "            i = i_idx + key[0] * X_height\n",
    "            j = j_idx + key[1] * Y_width\n",
    "            v = sum([ tmpA.get((i, k), 0.) * tmpB.get((k, j), 0.) for k in range(Asize[1]) ] )\n",
    "            yield ((i, j), v)"
   ]
  },
  {
   "cell_type": "code",
   "execution_count": 13,
   "metadata": {},
   "outputs": [
    {
     "name": "stdout",
     "output_type": "stream",
     "text": [
      "execution time = 409.89160799980164, output = -10713.0\n"
     ]
    }
   ],
   "source": [
    "import time\n",
    "start_time = time.time()\n",
    "res = rdd1.flatMap(matmul_map).groupByKey().flatMap(matmul_red).map(lambda t: t[1]).reduce(lambda a,b:a+b)\n",
    "print(\"execution time = {}, output = {}\".format(time.time() - start_time, res))"
   ]
  },
  {
   "cell_type": "markdown",
   "metadata": {},
   "source": [
    "# 최적 블럭 사이즈 계산\n",
    "\n",
    "연산 $A \\cdot B = C$의 C 행렬을 행을 X개, 열을 Y개의 구간으로 나누어 전체 X * Y (=P)개의 블럭으로 묶어 연산한다고 할때,\n",
    "(단, A = n by k, B = k by m 행렬)\n",
    "\n",
    "행렬 A에서 만들어지는 키-값 쌍의 개수는 $n \\cdot k \\cdot Y$개, B에서 만들어지는 키-값의 쌍 개수는  $k \\cdot m \\cdot X$개, 즉, 전체 키-값 쌍의 개수는,\n",
    "\n",
    "$k(n \\cdot Y + m \\cdot X)$\n",
    "\n",
    "산술기하평균 부등식에 의해 키-값 쌍 개수의 최솟값은,\n",
    "\n",
    "$k(n \\cdot Y + m \\cdot X) \\geq 2k\\sqrt{n\\cdot m\\cdot X \\cdot Y} = 2k\\sqrt{n\\cdot m\\cdot P}$\n",
    "\n",
    "등호는 $n \\cdot Y = m \\cdot X$일 때 성립하므로,\n",
    "\n",
    "키-값 쌍의 개수를 최소화 하는 X와 Y의 값은\n",
    "\n",
    "$Y = \\sqrt{\\frac{mP}{n}}, X = \\sqrt{\\frac{nP}{m}}$\n",
    "\n",
    "n = 1600, m = 80, P = 100 이므로 \n",
    "\n",
    "$Y = \\sqrt{\\frac{8000}{1600}}=2.23, X = \\sqrt{\\frac{160000}{80}}=44.7$\n",
    "\n",
    "따라서 대략 Y = 2, X = 40으로 C를 40 * 40의 정사각형 블럭으로 나누어 계산"
   ]
  },
  {
   "cell_type": "code",
   "execution_count": 7,
   "metadata": {},
   "outputs": [],
   "source": [
    "X = 40\n",
    "Y = 2"
   ]
  },
  {
   "cell_type": "code",
   "execution_count": 8,
   "metadata": {},
   "outputs": [
    {
     "data": {
      "text/plain": [
       "-10713.0"
      ]
     },
     "execution_count": 8,
     "metadata": {},
     "output_type": "execute_result"
    }
   ],
   "source": [
    "start_time = time.time()\n",
    "res = rdd1.flatMap(matmul_map).groupByKey().flatMap(matmul_red).map(lambda t: t[1]).reduce(lambda a,b:a+b)\n",
    "print(\"execution time = {}, output = {}\".format(time.time() - start_time, res))"
   ]
  },
  {
   "cell_type": "code",
   "execution_count": null,
   "metadata": {},
   "outputs": [],
   "source": []
  }
 ],
 "metadata": {
  "kernelspec": {
   "display_name": "Python 3",
   "language": "python",
   "name": "python3"
  },
  "language_info": {
   "codemirror_mode": {
    "name": "ipython",
    "version": 3
   },
   "file_extension": ".py",
   "mimetype": "text/x-python",
   "name": "python",
   "nbconvert_exporter": "python",
   "pygments_lexer": "ipython3",
   "version": "3.6.9"
  }
 },
 "nbformat": 4,
 "nbformat_minor": 4
}
