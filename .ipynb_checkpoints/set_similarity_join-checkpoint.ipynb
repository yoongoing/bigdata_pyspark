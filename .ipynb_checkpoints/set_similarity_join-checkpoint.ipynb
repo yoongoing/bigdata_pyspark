{
 "cells": [
  {
   "cell_type": "code",
   "execution_count": 1,
   "metadata": {},
   "outputs": [],
   "source": [
    "# To find out where the pyspark\n",
    "import findspark\n",
    "findspark.init()"
   ]
  },
  {
   "cell_type": "code",
   "execution_count": 2,
   "metadata": {},
   "outputs": [],
   "source": [
    "# Creating Spark Context\n",
    "from pyspark import SparkContext\n",
    "sc = SparkContext(\"local\", \"first app\")"
   ]
  },
  {
   "cell_type": "code",
   "execution_count": 3,
   "metadata": {},
   "outputs": [],
   "source": [
    "import matplotlib.pyplot as plt\n",
    "import numpy as np\n",
    "import math\n",
    "import time"
   ]
  },
  {
   "cell_type": "code",
   "execution_count": 4,
   "metadata": {},
   "outputs": [],
   "source": [
    "def create_setdata(ss):\n",
    "    record = set()\n",
    "    for i in ss:\n",
    "        if i not in record:\n",
    "            record.add(i)\n",
    "        else:\n",
    "            yield record\n",
    "            record = set()\n",
    "    if not record:\n",
    "        yield record"
   ]
  },
  {
   "cell_type": "code",
   "execution_count": 5,
   "metadata": {},
   "outputs": [],
   "source": [
    "def create_dataset(N, D=10000):\n",
    "    \"\"\"\n",
    "    N개의 집합 데이터 생성 (D = 사전 사이즈)\n",
    "    \"\"\"\n",
    "    \n",
    "    while True:\n",
    "        s = np.random.default_rng().zipf(1.2, N*10*10)\n",
    "        dataset = list(create_setdata(s[s<D]))\n",
    "        if len(dataset) >= N:\n",
    "            break\n",
    "        \n",
    "    ids = range(N)\n",
    "    return [(i, s) for i, s in zip(ids, dataset[:N])]"
   ]
  },
  {
   "cell_type": "markdown",
   "metadata": {},
   "source": [
    "#### map 함수"
   ]
  },
  {
   "cell_type": "code",
   "execution_count": 6,
   "metadata": {},
   "outputs": [],
   "source": [
    "def maker(Rid, items, num):\n",
    "    result = []\n",
    "    \n",
    "    if(num == 1):\n",
    "        for item in items:\n",
    "            result.append((item, Rid))\n",
    "    \n",
    "    elif(num == 2):\n",
    "        length = len(items)\n",
    "        for i in range(0, length-1):\n",
    "            for j in range(i+1, length):\n",
    "                result.append(((items[i], items[j]), 1))\n",
    "                \n",
    "    return result"
   ]
  },
  {
   "cell_type": "markdown",
   "metadata": {},
   "source": [
    "#### alpha 계산"
   ]
  },
  {
   "cell_type": "code",
   "execution_count": 7,
   "metadata": {},
   "outputs": [],
   "source": [
    "def alpha(RDD, t, Jaccard):\n",
    "    xlen = 0\n",
    "    ylen = 0\n",
    "    for rdd in RDD:\n",
    "        if(t[0] == rdd[0]):\n",
    "            xlen = rdd[1]\n",
    "        elif(t[1] == rdd[0]):\n",
    "            ylen = rdd[1]\n",
    "\n",
    "    return (Jaccard/(1+Jaccard)) * (xlen + ylen)"
   ]
  },
  {
   "cell_type": "markdown",
   "metadata": {},
   "source": [
    "#### Quiz2 해답"
   ]
  },
  {
   "cell_type": "code",
   "execution_count": 8,
   "metadata": {},
   "outputs": [],
   "source": [
    "def Quiz2(dataset, Jaccard=[0.6,0.7,0.8,0.9]): \n",
    "    results = []\n",
    "    durations = []\n",
    "    \n",
    "    for j in Jaccard:\n",
    "        start = time.time()\n",
    "        \n",
    "        RDD = sc.parallelize(dataset).filter(lambda x: 5 <= len(x[1]))\n",
    "        B_RDD = RDD.mapValues(lambda x: len(x)).collect()\n",
    "        \n",
    "        RDD1 = RDD.flatMap(lambda s: maker(s[0], s[1], 1)).groupByKey().mapValues(lambda x: list(x))\n",
    "        RDD2 = RDD1.flatMap(lambda inv: maker(inv[0], inv[1], 2)).reduceByKey(lambda x,y: x+y)\n",
    "        \n",
    "        result = RDD2.filter(lambda t: t[1] >= alpha(B_RDD, t[0], j)).count()\n",
    "\n",
    "        end = time.time()\n",
    "        duration = end - start\n",
    "        \n",
    "        results.append(result)\n",
    "        durations.append(duration)\n",
    "        \n",
    "    return results, durations"
   ]
  },
  {
   "cell_type": "markdown",
   "metadata": {},
   "source": [
    "#### Quiz2 실행코드"
   ]
  },
  {
   "cell_type": "code",
   "execution_count": 9,
   "metadata": {},
   "outputs": [],
   "source": [
    "X = [200, 400, 800, 1600]"
   ]
  },
  {
   "cell_type": "code",
   "execution_count": 10,
   "metadata": {},
   "outputs": [
    {
     "name": "stdout",
     "output_type": "stream",
     "text": [
      "[Dataset: 200]\n",
      "\n",
      "Jaccard coefficient 0.6\n",
      "Result: 0, Duration: 7.2851831912994385\n",
      "\n",
      "Jaccard coefficient 0.7\n",
      "Result: 0, Duration: 1.828566312789917\n",
      "\n",
      "Jaccard coefficient 0.8\n",
      "Result: 0, Duration: 1.5434284210205078\n",
      "\n",
      "Jaccard coefficient 0.9\n",
      "Result: 0, Duration: 1.4012820720672607\n",
      "\n",
      "================================\n",
      "\n",
      "[Dataset: 400]\n",
      "\n",
      "Jaccard coefficient 0.6\n",
      "Result: 3, Duration: 3.265251874923706\n",
      "\n",
      "Jaccard coefficient 0.7\n",
      "Result: 0, Duration: 1.9395525455474854\n",
      "\n",
      "Jaccard coefficient 0.8\n",
      "Result: 0, Duration: 1.7799839973449707\n",
      "\n",
      "Jaccard coefficient 0.9\n",
      "Result: 0, Duration: 2.0049712657928467\n",
      "\n",
      "================================\n",
      "\n",
      "[Dataset: 800]\n",
      "\n",
      "Jaccard coefficient 0.6\n",
      "Result: 8, Duration: 12.021573543548584\n",
      "\n",
      "Jaccard coefficient 0.7\n",
      "Result: 3, Duration: 11.157617807388306\n",
      "\n",
      "Jaccard coefficient 0.8\n",
      "Result: 1, Duration: 9.532248497009277\n",
      "\n",
      "Jaccard coefficient 0.9\n",
      "Result: 0, Duration: 8.883944749832153\n",
      "\n",
      "================================\n",
      "\n",
      "[Dataset: 1600]\n",
      "\n",
      "Jaccard coefficient 0.6\n",
      "Result: 11, Duration: 67.98839139938354\n",
      "\n",
      "Jaccard coefficient 0.7\n",
      "Result: 1, Duration: 69.06531429290771\n",
      "\n",
      "Jaccard coefficient 0.8\n",
      "Result: 0, Duration: 62.56836438179016\n",
      "\n",
      "Jaccard coefficient 0.9\n",
      "Result: 0, Duration: 61.41971039772034\n",
      "\n",
      "================================\n",
      "\n"
     ]
    }
   ],
   "source": [
    "results = []\n",
    "durations = []\n",
    "\n",
    "for i in range(4):\n",
    "    print(\"[Dataset: {}]\".format(X[i]))\n",
    "    print()\n",
    "    \n",
    "    dataset = create_dataset(X[i])\n",
    "    result, duration = Quiz2(dataset)\n",
    "\n",
    "    print(\"Jaccard coefficient 0.6\")\n",
    "    print(\"Result: {}, Duration: {}\".format(result[0], duration[0]))\n",
    "    print()\n",
    "    print(\"Jaccard coefficient 0.7\")\n",
    "    print(\"Result: {}, Duration: {}\".format(result[1], duration[1]))\n",
    "    print()\n",
    "    print(\"Jaccard coefficient 0.8\")\n",
    "    print(\"Result: {}, Duration: {}\".format(result[2], duration[2]))\n",
    "    print()\n",
    "    print(\"Jaccard coefficient 0.9\")\n",
    "    print(\"Result: {}, Duration: {}\".format(result[3], duration[3]))\n",
    "    print()\n",
    "    print(\"================================\")\n",
    "    print()\n",
    "    \n",
    "    results.append(result)\n",
    "    durations.append(duration)"
   ]
  },
  {
   "cell_type": "markdown",
   "metadata": {},
   "source": [
    "#### 그래프"
   ]
  },
  {
   "cell_type": "code",
   "execution_count": 11,
   "metadata": {},
   "outputs": [],
   "source": [
    "th = [0.6, 0.7, 0.8, 0.9]\n",
    "marker = ['^', 's', 'h', 'o']"
   ]
  },
  {
   "cell_type": "code",
   "execution_count": 16,
   "metadata": {},
   "outputs": [
    {
     "data": {
      "image/png": "[encoded data removed]",
      "text/plain": [
       "<Figure size 432x288 with 1 Axes>"
      ]
     },
     "metadata": {
      "needs_background": "light"
     },
     "output_type": "display_data"
    }
   ],
   "source": [
    "for i in range(4):\n",
    "    result = []\n",
    "    for j in range(4):\n",
    "        result.append(durations[j][i])\n",
    "    \n",
    "    plt.plot(X, result, marker=marker[i], label=\"threshold = {}\".format(th[i]))\n",
    "\n",
    "\n",
    "plt.xlabel(\"Number of sets\")\n",
    "plt.ylabel(\"Execution time\")\n",
    "\n",
    "plt.legend(loc='upper left', fontsize=10)\n",
    "\n",
    "plt.show()"
   ]
  },
  {
   "cell_type": "code",
   "execution_count": 17,
   "metadata": {},
   "outputs": [
    {
     "data": {
      "image/png": "[encoded data removed]",
      "text/plain": [
       "<Figure size 432x288 with 1 Axes>"
      ]
     },
     "metadata": {
      "needs_background": "light"
     },
     "output_type": "display_data"
    }
   ],
   "source": [
    "for i in range(4):\n",
    "    result = []\n",
    "    for j in range(4):\n",
    "        result.append(durations[i][j])\n",
    "    \n",
    "    plt.plot(th, result, marker=marker[i], label=\"# of sets = {}\".format(X[i]))\n",
    "\n",
    "\n",
    "plt.xlabel(\"Number of groups\")\n",
    "plt.ylabel(\"Execution time\")\n",
    "\n",
    "plt.legend(loc='center right', fontsize=10)\n",
    "\n",
    "plt.show()"
   ]
  }
 ],
 "metadata": {
  "kernelspec": {
   "display_name": "Python 3",
   "language": "python",
   "name": "python3"
  },
  "language_info": {
   "codemirror_mode": {
    "name": "ipython",
    "version": 3
   },
   "file_extension": ".py",
   "mimetype": "text/x-python",
   "name": "python",
   "nbconvert_exporter": "python",
   "pygments_lexer": "ipython3",
   "version": "3.7.6"
  }
 },
 "nbformat": 4,
 "nbformat_minor": 4
}
