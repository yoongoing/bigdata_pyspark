{
 "cells": [
  {
   "cell_type": "markdown",
   "metadata": {},
   "source": [
    "<br><br>\n",
    "**필요한 모듈 import**"
   ]
  },
  {
   "cell_type": "code",
   "execution_count": 1,
   "metadata": {},
   "outputs": [],
   "source": [
    "import random\n",
    "import matplotlib.pyplot as plt\n",
    "import math"
   ]
  },
  {
   "cell_type": "markdown",
   "metadata": {},
   "source": [
    "**1000000.txt 파일 불러오기**"
   ]
  },
  {
   "cell_type": "code",
   "execution_count": 2,
   "metadata": {},
   "outputs": [],
   "source": [
    "with open(\"./W02/1000000.txt\", mode=\"r\") as file:\n",
    "    contents = []\n",
    "    indexs = []\n",
    "    while True:\n",
    "        sentence = file.readline()\n",
    "        content = []\n",
    "        \n",
    "        if sentence:\n",
    "            index, X, Y = sentence.split(\",\")\n",
    "            \n",
    "            indexs.append(int(index))\n",
    "            \n",
    "            content.append(float(X))\n",
    "            content.append(float(Y))\n",
    "            \n",
    "            contents.append(content)\n",
    "\n",
    "        else:\n",
    "            break"
   ]
  },
  {
   "cell_type": "markdown",
   "metadata": {},
   "source": [
    "**1000000.grid 파일 불러오기**"
   ]
  },
  {
   "cell_type": "code",
   "execution_count": 3,
   "metadata": {},
   "outputs": [],
   "source": [
    "with open(\"./W02/1000000.grid\", mode=\"r\") as file:\n",
    "    stratNum = []\n",
    "    X_range = []\n",
    "    Y_range = []\n",
    "    i = 0\n",
    "    \n",
    "    while (i < 3):\n",
    "        sentence = file.readline()\n",
    "        \n",
    "        if sentence:\n",
    "            if (i == 0):\n",
    "                sections = sentence.split(\",\")\n",
    "                for section in sections:\n",
    "                    X_range.append(float(section))\n",
    "\n",
    "            elif (i == 1):\n",
    "                sections = sentence.split(\",\")\n",
    "                for section in sections:\n",
    "                    Y_range.append(float(section))\n",
    "\n",
    "            elif (i == 2):\n",
    "                nums = sentence.split(\",\")\n",
    "                for num in nums:\n",
    "                    stratNum.append(int(num))\n",
    "        else:\n",
    "            break\n",
    "            \n",
    "        i += 1"
   ]
  },
  {
   "cell_type": "markdown",
   "metadata": {},
   "source": [
    "**두 점사이의 거리를 계산하는 함수 dist**"
   ]
  },
  {
   "cell_type": "code",
   "execution_count": 4,
   "metadata": {},
   "outputs": [],
   "source": [
    "def dist(point1, point2):\n",
    "    return math.sqrt((point1[0]-point2[0])**2 + (point1[1]-point2[1])**2)"
   ]
  },
  {
   "cell_type": "markdown",
   "metadata": {},
   "source": [
    "**복원추출 랜덤샘플링 함수 WR_random_sampling**"
   ]
  },
  {
   "cell_type": "code",
   "execution_count": 5,
   "metadata": {},
   "outputs": [],
   "source": [
    "def WR_random_sampling(n_sample_points):\n",
    "    sum_ = 0. #average_distance의 총합\n",
    "    average_distance_lists = [] #average_distance 100개 리스트\n",
    "    \n",
    "    varience = 0. #샘플평균의 분산\n",
    "    \n",
    "    #average_distance 100번 추정\n",
    "    for _ in range(100):\n",
    "        \n",
    "        sample_sum = 0. #샘플의 평균거리 총합\n",
    "        for i in range(0, n_sample_points):    \n",
    "            p1 = random.sample(contents, 1) #n_sample_points 개수만큼 인덱스 무작위 추출\n",
    "            p2 = random.sample(contents, 1)\n",
    "            while(True):\n",
    "                if(p1 != p2):\n",
    "                    break\n",
    "                p2 = random.sample(contents, 1)\n",
    "\n",
    "            sample_sum += dist(p1[0], p2[0])\n",
    "            \n",
    "        average_distance = sample_sum / n_sample_points\n",
    "        average_distance_lists.append(average_distance)\n",
    "        sum_ += average_distance\n",
    "       \n",
    "    #average의 평균(샘플평균 구하기)   \n",
    "    sample_mean = sum_ / 100\n",
    "    \n",
    "    variance = 0.\n",
    "    #샘플평균의 분산 구하기\n",
    "    for ad in average_distance_lists:\n",
    "        variance += ((sample_mean - ad) ** 2)\n",
    "    \n",
    "    variance /= 100\n",
    "    \n",
    "    print(\"sample mean: {}\".format(sample_mean))\n",
    "    print(\"variance: {}\".format(variance))\n",
    "\n",
    "    return variance"
   ]
  },
  {
   "cell_type": "markdown",
   "metadata": {},
   "source": [
    "**샘플 개수를 1000, 2000, 4000, 8000, 16000개로 늘려가며 분산 계산**"
   ]
  },
  {
   "cell_type": "code",
   "execution_count": 6,
   "metadata": {},
   "outputs": [
    {
     "name": "stdout",
     "output_type": "stream",
     "text": [
      "sample mean: 0.394583155766402\n",
      "variance: 3.824550649465632e-05\n",
      "\n",
      "sample mean: 0.3964078118490852\n",
      "variance: 1.813327209220624e-05\n",
      "\n",
      "sample mean: 0.39543109263679826\n",
      "variance: 9.825234249383445e-06\n",
      "\n",
      "sample mean: 0.3956249766009944\n",
      "variance: 6.032525818108353e-06\n",
      "\n",
      "sample mean: 0.3956566359123172\n",
      "variance: 2.6790329958373234e-06\n",
      "\n"
     ]
    }
   ],
   "source": [
    "X = [1000, 2000, 4000, 8000, 16000]\n",
    "Y1 = []\n",
    "for num in X:\n",
    "    SRS_sample_variance = WR_random_sampling(num)\n",
    "    Y1.append(SRS_sample_variance)\n",
    "    print()"
   ]
  },
  {
   "cell_type": "code",
   "execution_count": 7,
   "metadata": {
    "scrolled": true
   },
   "outputs": [
    {
     "data": {
      "text/plain": [
       "[3.824550649465632e-05,\n",
       " 1.813327209220624e-05,\n",
       " 9.825234249383445e-06,\n",
       " 6.032525818108353e-06,\n",
       " 2.6790329958373234e-06]"
      ]
     },
     "execution_count": 7,
     "metadata": {},
     "output_type": "execute_result"
    }
   ],
   "source": [
    "Y1"
   ]
  },
  {
   "cell_type": "markdown",
   "metadata": {},
   "source": [
    "<br>**16개의 group별 좌표 계산**<br><br>\n",
    "ex)<br>\n",
    "G1 = 0.0 <= x < 0.25, 0.0 <= y < 0.25<br>\n",
    "G2 = 0.0 <= x < 0.25, 0.25 <= y < 0.5<br>\n",
    "    ...<br>\n",
    "G16 = 0.75 <= x < 1.0, 0.75 <= y < 1.0<br>"
   ]
  },
  {
   "cell_type": "code",
   "execution_count": 8,
   "metadata": {},
   "outputs": [],
   "source": [
    "X_range.insert(0,0.)\n",
    "grid = X_range"
   ]
  },
  {
   "cell_type": "code",
   "execution_count": 9,
   "metadata": {},
   "outputs": [
    {
     "data": {
      "text/plain": [
       "[0.0, 0.25, 0.5, 0.75, 1.0]"
      ]
     },
     "execution_count": 9,
     "metadata": {},
     "output_type": "execute_result"
    }
   ],
   "source": [
    "grid"
   ]
  },
  {
   "cell_type": "code",
   "execution_count": 10,
   "metadata": {},
   "outputs": [],
   "source": [
    "def list_by_group(v, grid):\n",
    "    list_ = []\n",
    "    size = len(grid) - 1\n",
    "    for i in range(size):\n",
    "        group1 = [grid[i], grid[i+1]]\n",
    "        \n",
    "        for j in range(size):\n",
    "            group2 = [grid[j], grid[j+1]]\n",
    "\n",
    "            group_list = []\n",
    "            \n",
    "            for vn in v:\n",
    "                if((group1[0]<=vn[0]<group1[1]) and (group2[0]<=vn[1]<group2[1])):\n",
    "                    group_list.append(vn)\n",
    "            list_.append(group_list)\n",
    "            \n",
    "    return list_"
   ]
  },
  {
   "cell_type": "code",
   "execution_count": 11,
   "metadata": {},
   "outputs": [],
   "source": [
    "a = list_by_group(contents, grid)"
   ]
  },
  {
   "cell_type": "code",
   "execution_count": 12,
   "metadata": {
    "scrolled": true
   },
   "outputs": [
    {
     "name": "stdout",
     "output_type": "stream",
     "text": [
      "G0's size: 224531\n",
      "G1's size: 153501\n",
      "G2's size: 72541\n",
      "G3's size: 23268\n",
      "G4's size: 153663\n",
      "G5's size: 106050\n",
      "G6's size: 49307\n",
      "G7's size: 15864\n",
      "G8's size: 71994\n",
      "G9's size: 49407\n",
      "G10's size: 23308\n",
      "G11's size: 7511\n",
      "G12's size: 23101\n",
      "G13's size: 15857\n",
      "G14's size: 7701\n",
      "G15's size: 2396\n",
      "\n",
      "total: 1000000\n"
     ]
    }
   ],
   "source": [
    "total = 0\n",
    "for i in range(16):\n",
    "    total += len(a[i])\n",
    "    print(\"G{}\\'s size: {}\".format(i,len(a[i])))\n",
    "\n",
    "print()\n",
    "print(\"total: {}\".format(total))"
   ]
  },
  {
   "cell_type": "markdown",
   "metadata": {},
   "source": [
    "<br>**stratum별 사이즈, 사이즈 총합 계산**<br><br>\n",
    "ex)<br>\n",
    "S(1,1) : G1과 G1에서 만들수 있는 좌표쌍 수 => (G1 size) combination 2<br>\n",
    "S(1,2) : G1과 G2에서 만들수 있는 좌표쌍 수 => (G1 size) * (G2 size)<br>\n",
    "...<br>\n",
    "S(16,16) : G16과 G16로 만들수 있는 좌표쌍 수 => (G16 size) combination 2\n",
    "\n"
   ]
  },
  {
   "cell_type": "code",
   "execution_count": 13,
   "metadata": {},
   "outputs": [],
   "source": [
    "total = 0\n",
    "strata_size = []\n",
    "\n",
    "for i in range(0, 16):\n",
    "    for j in range(i, 16):\n",
    "        L1 = len(a[i])\n",
    "        L2 = len(a[j])\n",
    "        if(i == j):\n",
    "            size = int((L1 * (L1-1))/2)\n",
    "            strata_size.append(size)\n",
    "            total += size\n",
    "            continue\n",
    "        size = L1 * L2\n",
    "        strata_size.append(size)\n",
    "        total += size"
   ]
  },
  {
   "cell_type": "code",
   "execution_count": 14,
   "metadata": {},
   "outputs": [
    {
     "data": {
      "text/plain": [
       "499999500000"
      ]
     },
     "execution_count": 14,
     "metadata": {},
     "output_type": "execute_result"
    }
   ],
   "source": [
    "total"
   ]
  },
  {
   "cell_type": "markdown",
   "metadata": {},
   "source": [
    "**복원추출 층화샘플링 함수 WR_stratified_sampling**"
   ]
  },
  {
   "cell_type": "code",
   "execution_count": 15,
   "metadata": {},
   "outputs": [],
   "source": [
    "def WR_stratified_sampling(n_sample_points):\n",
    "    average_distance_lists = []\n",
    "    sum_ = 0.\n",
    "      \n",
    "    stratum_size = []   \n",
    "              \n",
    "    for i in range(136):\n",
    "        stratum_size.append(int((strata_size[i]/total) * n_sample_points))\n",
    "   \n",
    "    for _ in range(100):\n",
    "        stratum_average_list = []\n",
    "        \n",
    "        n = 0\n",
    "        for i in range(0,16):\n",
    "            for j in range(i,16):\n",
    "                sample_sum = 0.\n",
    "                \n",
    "                #그룹 2개를 골라서\n",
    "                group1 = a[i]\n",
    "                group2 = a[j]\n",
    "                \n",
    "                temp = stratum_size[n]\n",
    "                if(temp == 0):\n",
    "                    stratum_average_list.append(0)\n",
    "                    continue;\n",
    "                    \n",
    "                #추출할 샘플 수만큼 반복   \n",
    "                for _ in range(temp):\n",
    "                    p1 = random.sample(group1, 1)\n",
    "                    p2 = random.sample(group2, 1)\n",
    "                    while(True):\n",
    "                        if(p1 != p2):\n",
    "                            break\n",
    "                        p2 = random.sample(group2, 1)\n",
    "                    distance = dist(p1[0], p2[0])\n",
    "                    sample_sum += distance\n",
    "                \n",
    "                stratum_average = sample_sum / temp\n",
    "                stratum_average_list.append(stratum_average)\n",
    "                n += 1\n",
    "        \n",
    "        #전체평균(averge distance) 구하기\n",
    "        entire_sample_sum = 0.\n",
    "        for i in range(len(stratum_average_list)):\n",
    "            entire_sample_sum += (stratum_average_list[i] * strata_size[i])\n",
    "        \n",
    "        average_distance = entire_sample_sum / total\n",
    "        average_distance_lists.append(average_distance)\n",
    "        sum_ += average_distance\n",
    "\n",
    "    #average의 평균(샘플평균 구하기)   \n",
    "    sample_mean = sum_ / 100\n",
    "    \n",
    "    variance = 0\n",
    "    #샘플평균의 분산 구하기\n",
    "    for ad in average_distance_lists:\n",
    "        variance += ((sample_mean - ad) ** 2)\n",
    "\n",
    "    variance /= 100\n",
    "    print()\n",
    "    print(\"sample mean: {}\".format(sample_mean))\n",
    "    print(\"variance: {}\".format(variance))\n",
    "    \n",
    "    return variance"
   ]
  },
  {
   "cell_type": "markdown",
   "metadata": {},
   "source": [
    "**샘플 개수를 1000, 2000, 4000, 8000, 16000개로 늘려가며 분산 계산**"
   ]
  },
  {
   "cell_type": "code",
   "execution_count": 16,
   "metadata": {},
   "outputs": [
    {
     "name": "stdout",
     "output_type": "stream",
     "text": [
      "\n",
      "sample mean: 0.23908585326820173\n",
      "variance: 5.2194549435904255e-06\n",
      "\n",
      "\n",
      "sample mean: 0.28096688893315613\n",
      "variance: 2.946412887599091e-06\n",
      "\n",
      "\n",
      "sample mean: 0.29787120083036717\n",
      "variance: 1.5548147033617568e-06\n",
      "\n",
      "\n",
      "sample mean: 0.2979080960173192\n",
      "variance: 8.054445035668533e-07\n",
      "\n",
      "\n",
      "sample mean: 0.39457099074134694\n",
      "variance: 4.3149591331540576e-07\n",
      "\n"
     ]
    }
   ],
   "source": [
    "Y2 = []\n",
    "for num in X:\n",
    "    ST_sample_variance = WR_stratified_sampling(num)\n",
    "    Y2.append(ST_sample_variance)\n",
    "    print()"
   ]
  },
  {
   "cell_type": "code",
   "execution_count": 17,
   "metadata": {},
   "outputs": [
    {
     "data": {
      "text/plain": [
       "[5.2194549435904255e-06,\n",
       " 2.946412887599091e-06,\n",
       " 1.5548147033617568e-06,\n",
       " 8.054445035668533e-07,\n",
       " 4.3149591331540576e-07]"
      ]
     },
     "execution_count": 17,
     "metadata": {},
     "output_type": "execute_result"
    }
   ],
   "source": [
    "Y2"
   ]
  },
  {
   "cell_type": "markdown",
   "metadata": {},
   "source": [
    "**그래프 출력**<br>\n",
    "<li>파랑 선 : 랜덤샘플링</li>\n",
    "<li>주황 선 : 층화샘플링</li>"
   ]
  },
  {
   "cell_type": "code",
   "execution_count": 18,
   "metadata": {},
   "outputs": [
    {
     "data": {
      "image/png": "[encoded data removed]",
      "text/plain": [
       "<Figure size 432x288 with 1 Axes>"
      ]
     },
     "metadata": {
      "needs_background": "light"
     },
     "output_type": "display_data"
    }
   ],
   "source": [
    "plt.plot(X, Y1, marker='o')\n",
    "plt.plot(X, Y2, marker='s')\n",
    "plt.xlabel(\"x-axis\")\n",
    "plt.ylabel(\"y-axis\")\n",
    "plt.show()"
   ]
  }
 ],
 "metadata": {
  "kernelspec": {
   "display_name": "Python 3",
   "language": "python",
   "name": "python3"
  },
  "language_info": {
   "codemirror_mode": {
    "name": "ipython",
    "version": 3
   },
   "file_extension": ".py",
   "mimetype": "text/x-python",
   "name": "python",
   "nbconvert_exporter": "python",
   "pygments_lexer": "ipython3",
   "version": "3.7.6"
  }
 },
 "nbformat": 4,
 "nbformat_minor": 4
}
