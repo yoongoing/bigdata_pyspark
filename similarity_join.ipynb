{
 "cells": [
  {
   "cell_type": "markdown",
   "metadata": {},
   "source": [
    "# 빅데이터처리\n",
    "## Week05_Quiz1\n",
    "### 2016003709 윤가영"
   ]
  },
  {
   "cell_type": "code",
   "execution_count": 1,
   "metadata": {},
   "outputs": [],
   "source": [
    "# To find out where the pyspark\n",
    "import findspark\n",
    "findspark.init()"
   ]
  },
  {
   "cell_type": "code",
   "execution_count": 2,
   "metadata": {},
   "outputs": [],
   "source": [
    "# Creating Spark Context\n",
    "from pyspark import SparkContext\n",
    "sc = SparkContext(\"local\", \"first app\")"
   ]
  },
  {
   "cell_type": "code",
   "execution_count": 3,
   "metadata": {},
   "outputs": [],
   "source": [
    "import matplotlib.pyplot as plt\n",
    "import numpy as np\n",
    "import math\n",
    "import time"
   ]
  },
  {
   "cell_type": "code",
   "execution_count": 4,
   "metadata": {},
   "outputs": [],
   "source": [
    "def create_dataset(N, D=2, minval=[0, 0], maxval=[1, 1]):\n",
    "    \"\"\"\n",
    "    D차원 벡터 N개를 생성\n",
    "    \"\"\"\n",
    "    \n",
    "    dataset = np.zeros((N, D+1))\n",
    "    \n",
    "    #gen IDs\n",
    "    dataset[:, 0] = np.arange(1, N+1, dtype='int')\n",
    "    \n",
    "    #gen values\n",
    "    for i in range(D):\n",
    "        vec = np.random.rand(N) * (maxval[i] - minval[i]) + minval[i]\n",
    "        dataset[:, i+1] = vec\n",
    "        \n",
    "    return dataset"
   ]
  },
  {
   "cell_type": "markdown",
   "metadata": {},
   "source": [
    "#### map 함수"
   ]
  },
  {
   "cell_type": "code",
   "execution_count": 5,
   "metadata": {},
   "outputs": [],
   "source": [
    "def maker(idx, vec, g, gnum):\n",
    "    bid = math.ceil(idx/g)\n",
    "\n",
    "    result = []\n",
    "    for i in range(1, gnum+1):\n",
    "        if(i <= bid):\n",
    "            key = (i, bid)\n",
    "            value = (idx, vec)\n",
    "            t = (key, value)\n",
    "            result.append(t)\n",
    "        \n",
    "        elif(i > bid):\n",
    "            key = (bid, i)\n",
    "            value = (idx, vec)\n",
    "            t = (key, value)\n",
    "            result.append(t)\n",
    "    \n",
    "    return result"
   ]
  },
  {
   "cell_type": "markdown",
   "metadata": {},
   "source": [
    "#### filtering 함수"
   ]
  },
  {
   "cell_type": "code",
   "execution_count": 6,
   "metadata": {},
   "outputs": [],
   "source": [
    "def check_distance(v1, v2, threshold=0.01):\n",
    "    d1 = (v2[0]-v1[0]) ** 2\n",
    "    d2 = (v2[1]-v1[1]) ** 2\n",
    "    \n",
    "    distance = math.sqrt(d1 + d2)\n",
    "    \n",
    "    if(distance <= threshold):\n",
    "        return True\n",
    "    \n",
    "    return False"
   ]
  },
  {
   "cell_type": "markdown",
   "metadata": {},
   "source": [
    "#### reduce 함수"
   ]
  },
  {
   "cell_type": "code",
   "execution_count": 7,
   "metadata": {},
   "outputs": [],
   "source": [
    "def reducer(key, li, g, gnum):\n",
    "    x = key[0]\n",
    "    y = key[1]\n",
    "    \n",
    "    result = []\n",
    "    \n",
    "    if(x == y):\n",
    "        length = len(li)\n",
    "        for i in range(0, length-1):\n",
    "            id_r = li[i][0]\n",
    "            vec_r = li[i][1]  \n",
    "            for j in range(i+1, length):\n",
    "                id_s = li[j][0]\n",
    "                vec_s = li[j][1]\n",
    "                \n",
    "                if(check_distance(vec_r, vec_s)):\n",
    "                    result.append(((id_r, id_s), (vec_r, vec_s)))\n",
    "                \n",
    "    else:\n",
    "        list_r = []\n",
    "        list_s = []\n",
    "        for (idx, vec) in li:\n",
    "            bid = math.ceil(idx/g)\n",
    "            if(bid == x):\n",
    "                list_r.append((idx,vec))\n",
    "            elif(bid == y):\n",
    "                list_s.append((idx,vec))\n",
    "        print(len(list_r))\n",
    "        print(len(list_s))\n",
    "        for (id_r, vec_r) in list_r:\n",
    "            for (id_s, vec_s) in list_s:\n",
    "                if(check_distance(vec_r, vec_s)):\n",
    "                    result.append(((id_r, id_s), (vec_r, vec_s)))\n",
    "    return result"
   ]
  },
  {
   "cell_type": "markdown",
   "metadata": {},
   "source": [
    "#### Quiz1 해답"
   ]
  },
  {
   "cell_type": "code",
   "execution_count": 8,
   "metadata": {},
   "outputs": [],
   "source": [
    "def Quiz1(dataset, group=[1,2,4,8]):\n",
    "    length = dataset.shape[0]\n",
    "    \n",
    "    results = []\n",
    "    durations = []\n",
    "    for g in group:\n",
    "        start = time.time()\n",
    "        \n",
    "        RDD = sc.parallelize(dataset).map(lambda x: list(x)).flatMap(lambda x: maker(x[0], x[1:], length/g, g)) \n",
    "        result = RDD.groupByKey().flatMap(lambda x: reducer(x[0], list(x[1]), length/g, g)).count()\n",
    "\n",
    "        end = time.time()\n",
    "        duration = end - start\n",
    "        \n",
    "        results.append(result)\n",
    "        durations.append(duration)\n",
    "        \n",
    "    return results, durations"
   ]
  },
  {
   "cell_type": "markdown",
   "metadata": {},
   "source": [
    "#### Quiz1 실행코드"
   ]
  },
  {
   "cell_type": "code",
   "execution_count": 9,
   "metadata": {},
   "outputs": [],
   "source": [
    "X = [200, 400, 800, 1600]"
   ]
  },
  {
   "cell_type": "code",
   "execution_count": 32,
   "metadata": {},
   "outputs": [
    {
     "name": "stdout",
     "output_type": "stream",
     "text": [
      "[Dataset: 200]\n",
      "\n",
      "group of 1\n",
      "Result: 9, Duration: 0.5674943923950195\n",
      "\n",
      "group of 2\n",
      "Result: 9, Duration: 0.3921070098876953\n",
      "\n",
      "group of 4\n",
      "Result: 9, Duration: 0.43623971939086914\n",
      "\n",
      "group of 8\n",
      "Result: 9, Duration: 0.3103930950164795\n",
      "\n",
      "================================\n",
      "\n",
      "[Dataset: 400]\n",
      "\n",
      "group of 1\n",
      "Result: 21, Duration: 0.4741196632385254\n",
      "\n",
      "group of 2\n",
      "Result: 21, Duration: 0.4421238899230957\n",
      "\n",
      "group of 4\n",
      "Result: 21, Duration: 0.43508076667785645\n",
      "\n",
      "group of 8\n",
      "Result: 21, Duration: 0.7173593044281006\n",
      "\n",
      "================================\n",
      "\n",
      "[Dataset: 800]\n",
      "\n",
      "group of 1\n",
      "Result: 99, Duration: 1.0277397632598877\n",
      "\n",
      "group of 2\n",
      "Result: 99, Duration: 0.9536256790161133\n",
      "\n",
      "group of 4\n",
      "Result: 99, Duration: 0.8849923610687256\n",
      "\n",
      "group of 8\n",
      "Result: 99, Duration: 1.240262508392334\n",
      "\n",
      "================================\n",
      "\n",
      "[Dataset: 1600]\n",
      "\n",
      "group of 1\n",
      "Result: 370, Duration: 4.409970998764038\n",
      "\n",
      "group of 2\n",
      "Result: 370, Duration: 3.1693787574768066\n",
      "\n",
      "group of 4\n",
      "Result: 370, Duration: 3.39902400970459\n",
      "\n",
      "group of 8\n",
      "Result: 370, Duration: 2.9765279293060303\n",
      "\n",
      "================================\n",
      "\n"
     ]
    }
   ],
   "source": [
    "results = []\n",
    "durations = []\n",
    "\n",
    "for i in range(4):\n",
    "    print(\"[Dataset: {}]\".format(X[i]))\n",
    "    print()\n",
    "    \n",
    "    dataset = create_dataset(X[i])\n",
    "    result, duration = Quiz1(dataset)\n",
    "\n",
    "    print(\"group of 1\")\n",
    "    print(\"Result: {}, Duration: {}\".format(result[0], duration[0]))\n",
    "    print()\n",
    "    print(\"group of 2\")\n",
    "    print(\"Result: {}, Duration: {}\".format(result[1], duration[1]))\n",
    "    print()\n",
    "    print(\"group of 4\")\n",
    "    print(\"Result: {}, Duration: {}\".format(result[2], duration[2]))\n",
    "    print()\n",
    "    print(\"group of 8\")\n",
    "    print(\"Result: {}, Duration: {}\".format(result[3], duration[3]))\n",
    "    print()\n",
    "    print(\"================================\")\n",
    "    print()\n",
    "    \n",
    "    results.append(result)\n",
    "    durations.append(duration)"
   ]
  },
  {
   "cell_type": "markdown",
   "metadata": {},
   "source": [
    "#### 그래프"
   ]
  },
  {
   "cell_type": "code",
   "execution_count": 33,
   "metadata": {},
   "outputs": [],
   "source": [
    "gr = [1,2,4,8]\n",
    "marker = ['^', 's', 'h', 'o']"
   ]
  },
  {
   "cell_type": "code",
   "execution_count": 37,
   "metadata": {},
   "outputs": [
    {
     "data": {
      "image/png": "[encoded data removed]",
      "text/plain": [
       "<Figure size 432x288 with 1 Axes>"
      ]
     },
     "metadata": {
      "needs_background": "light"
     },
     "output_type": "display_data"
    }
   ],
   "source": [
    "for i in range(4):\n",
    "    result = []\n",
    "    for j in range(4):\n",
    "        result.append(durations[j][i])\n",
    "    \n",
    "    plt.plot(X, result, marker=marker[i], label=\"# of groups = {}\".format(gr[i]))\n",
    "\n",
    "\n",
    "plt.xlabel(\"Number of datapoints\")\n",
    "plt.ylabel(\"Execution time\")\n",
    "plt.yscale('log')\n",
    "\n",
    "plt.legend(loc='upper left', fontsize=10)\n",
    "\n",
    "plt.show()"
   ]
  },
  {
   "cell_type": "code",
   "execution_count": 38,
   "metadata": {
    "scrolled": true
   },
   "outputs": [
    {
     "data": {
      "image/png": "[encoded data removed]",
      "text/plain": [
       "<Figure size 432x288 with 1 Axes>"
      ]
     },
     "metadata": {
      "needs_background": "light"
     },
     "output_type": "display_data"
    }
   ],
   "source": [
    "for i in range(4):\n",
    "    result = []\n",
    "    for j in range(4):\n",
    "        result.append(durations[i][j])\n",
    "    \n",
    "    plt.plot(gr, result, marker=marker[i], label=\"# of points = {}\".format(X[i]))\n",
    "\n",
    "\n",
    "plt.xlabel(\"Number of groups\")\n",
    "plt.ylabel(\"Execution time\")\n",
    "plt.yscale('log')\n",
    "\n",
    "plt.legend(loc='upper right', fontsize=10)\n",
    "\n",
    "plt.show()"
   ]
  }
 ],
 "metadata": {
  "kernelspec": {
   "display_name": "Python 3",
   "language": "python",
   "name": "python3"
  },
  "language_info": {
   "codemirror_mode": {
    "name": "ipython",
    "version": 3
   },
   "file_extension": ".py",
   "mimetype": "text/x-python",
   "name": "python",
   "nbconvert_exporter": "python",
   "pygments_lexer": "ipython3",
   "version": "3.6.9"
  }
 },
 "nbformat": 4,
 "nbformat_minor": 4
}
