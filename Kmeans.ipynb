{
 "cells": [
  {
   "cell_type": "markdown",
   "metadata": {},
   "source": [
    "# 빅데이터처리\n",
    "## Week07_Quiz\n",
    "### 2016003709 윤가영"
   ]
  },
  {
   "cell_type": "code",
   "execution_count": 1,
   "metadata": {},
   "outputs": [],
   "source": [
    "# To find out where the pyspark\n",
    "import findspark\n",
    "findspark.init()"
   ]
  },
  {
   "cell_type": "code",
   "execution_count": 2,
   "metadata": {},
   "outputs": [],
   "source": [
    "# Creating Spark Context\n",
    "from pyspark import SparkContext\n",
    "sc = SparkContext(\"local\", \"first app\")"
   ]
  },
  {
   "cell_type": "code",
   "execution_count": 3,
   "metadata": {},
   "outputs": [],
   "source": [
    "import matplotlib.pyplot as plt\n",
    "import numpy as np\n",
    "import math\n",
    "import time\n",
    "import copy"
   ]
  },
  {
   "cell_type": "code",
   "execution_count": 4,
   "metadata": {},
   "outputs": [],
   "source": [
    "def create_dataset(N, D=10, K=None):\n",
    "    if K is None:\n",
    "        K = math.ceil(math.sqrt(N)/2)\n",
    "        \n",
    "    def create_normal_dist(n):\n",
    "        mu = np.random.randint(-100, 100, size=(D,)) / 100. * D\n",
    "        \n",
    "        L = np.random.randint(-70, 70, size=(D,D)) / 100.\n",
    "        cov = np.dot(L, L.transpose())\n",
    "        \n",
    "        t = np.random.multivariate_normal(mu, cov, n)\n",
    "        return t\n",
    "    \n",
    "    dataset = list()\n",
    "    Csize = int(N / K)\n",
    "    for k in range(K):\n",
    "        dataset_c = np.zeros((Csize, D+1))\n",
    "        #gen IDs\n",
    "        dataset_c[:, 0] = k\n",
    "        dataset_c[:, 1:D+1] = create_normal_dist(Csize)\n",
    "        dataset.extend(dataset_c)\n",
    "        \n",
    "    return np.array(dataset)"
   ]
  },
  {
   "cell_type": "markdown",
   "metadata": {},
   "source": [
    "#### 가장 가까운 클러스터의 idx를 반환하는 함수"
   ]
  },
  {
   "cell_type": "code",
   "execution_count": 5,
   "metadata": {},
   "outputs": [],
   "source": [
    "def find_closest(point, center, K):\n",
    "    centerId = -1\n",
    "    min_dist = np.Inf\n",
    "\n",
    "    for i in range(K):\n",
    "        dist = np.sqrt(np.sum((center[i][1] - point)**2))\n",
    "        if(dist < min_dist):\n",
    "            min_dist = dist\n",
    "            centerId = center[i][0]\n",
    "\n",
    "    return centerId"
   ]
  },
  {
   "cell_type": "markdown",
   "metadata": {},
   "source": [
    "#### Quiz 해답"
   ]
  },
  {
   "cell_type": "code",
   "execution_count": 6,
   "metadata": {},
   "outputs": [],
   "source": [
    "def Quiz(N, cluster=[10,20,40,80], convergenceTol=0.001, maxIter=50):\n",
    "    duration = []\n",
    "    result = []\n",
    "    \n",
    "    for k in cluster:\n",
    "        dataset = create_dataset(N, K=k)\n",
    "        \n",
    "        start = time.time()\n",
    "        \n",
    "        inputRDD = sc.parallelize(dataset).map(lambda s: (s[0], s[1:])).cache()\n",
    "        center = inputRDD.map(lambda s: (s[0], (1,s[1]))).reduceByKey(lambda x,y: ((x[0]+y[0]), x[1]+y[1])).mapValues(lambda v: v[1]/v[0]).collect()\n",
    "        pr = sc.broadcast(center)\n",
    "        \n",
    "        prev = inputRDD.map(lambda t: np.sqrt(np.sum((pr.value[int(t[0])][1] - t[1])**2))).sum()\n",
    "        \n",
    "        for _ in range(maxIter):\n",
    "            inputRDD = inputRDD.map(lambda s: (find_closest(s[1], center, k), s[1])).cache()\n",
    "            center = inputRDD.map(lambda s: (s[0], (1,s[1]))).reduceByKey(lambda x,y: ((x[0]+y[0]), x[1]+y[1])).mapValues(lambda v: v[1]/v[0]).collect()\n",
    "            pr = sc.broadcast(center)\n",
    "            \n",
    "            # test convergence\n",
    "            err = inputRDD.map(lambda t: np.sqrt(np.sum((pr.value[int(t[0])][1] - t[1])**2))).sum()\n",
    "            if abs(prev - err) < convergenceTol:\n",
    "                prev = err\n",
    "                break\n",
    "\n",
    "            # save prev-error value\n",
    "            prev = err\n",
    "        \n",
    "        end = time.time()\n",
    "        \n",
    "        result.append(center)\n",
    "        duration.append(end-start)\n",
    "        \n",
    "    return duration    "
   ]
  },
  {
   "cell_type": "markdown",
   "metadata": {},
   "source": [
    "#### Quiz 실행코드"
   ]
  },
  {
   "cell_type": "code",
   "execution_count": 7,
   "metadata": {},
   "outputs": [],
   "source": [
    "X = [1000, 2000, 4000, 8000, 16000]"
   ]
  },
  {
   "cell_type": "code",
   "execution_count": 8,
   "metadata": {},
   "outputs": [
    {
     "name": "stdout",
     "output_type": "stream",
     "text": [
      "[Dataset: 1000]\n",
      "\n",
      "# of cluster : 10\n",
      "Duration: 10.415163040161133\n",
      "\n",
      "# of cluster : 20\n",
      "Duration: 2.476116418838501\n",
      "\n",
      "# of cluster : 40\n",
      "Duration: 2.8163578510284424\n",
      "\n",
      "# of cluster : 80\n",
      "Duration: 3.3927273750305176\n",
      "\n",
      "================================\n",
      "\n",
      "[Dataset: 2000]\n",
      "\n",
      "# of cluster : 10\n",
      "Duration: 2.455453634262085\n",
      "\n",
      "# of cluster : 20\n",
      "Duration: 4.275258302688599\n",
      "\n",
      "# of cluster : 40\n",
      "Duration: 3.7587835788726807\n",
      "\n",
      "# of cluster : 80\n",
      "Duration: 7.180518627166748\n",
      "\n",
      "================================\n",
      "\n",
      "[Dataset: 4000]\n",
      "\n",
      "# of cluster : 10\n",
      "Duration: 2.7537453174591064\n",
      "\n",
      "# of cluster : 20\n",
      "Duration: 5.840237379074097\n",
      "\n",
      "# of cluster : 40\n",
      "Duration: 8.93427848815918\n",
      "\n",
      "# of cluster : 80\n",
      "Duration: 19.88587474822998\n",
      "\n",
      "================================\n",
      "\n",
      "[Dataset: 8000]\n",
      "\n",
      "# of cluster : 10\n",
      "Duration: 4.03127384185791\n",
      "\n",
      "# of cluster : 20\n",
      "Duration: 13.555373191833496\n",
      "\n",
      "# of cluster : 40\n",
      "Duration: 19.05179262161255\n",
      "\n",
      "# of cluster : 80\n",
      "Duration: 16.347975492477417\n",
      "\n",
      "================================\n",
      "\n",
      "[Dataset: 16000]\n",
      "\n",
      "# of cluster : 10\n",
      "Duration: 10.294225215911865\n",
      "\n",
      "# of cluster : 20\n",
      "Duration: 10.829514026641846\n",
      "\n",
      "# of cluster : 40\n",
      "Duration: 34.18788290023804\n",
      "\n",
      "# of cluster : 80\n",
      "Duration: 50.37799048423767\n",
      "\n",
      "================================\n",
      "\n"
     ]
    }
   ],
   "source": [
    "durations = []\n",
    "\n",
    "for x in X:\n",
    "    print(\"[Dataset: {}]\".format(x))\n",
    "    print()\n",
    "\n",
    "    duration = Quiz(x)\n",
    "\n",
    "    print(\"# of cluster : 10\")\n",
    "    print(\"Duration: {}\".format(duration[0]))\n",
    "    print()\n",
    "    print(\"# of cluster : 20\")\n",
    "    print(\"Duration: {}\".format(duration[1]))\n",
    "    print()\n",
    "    print(\"# of cluster : 40\")\n",
    "    print(\"Duration: {}\".format(duration[2]))\n",
    "    print()\n",
    "    print(\"# of cluster : 80\")\n",
    "    print(\"Duration: {}\".format(duration[3]))\n",
    "    print()\n",
    "    print(\"================================\")\n",
    "    print()\n",
    "\n",
    "    durations.append(duration)"
   ]
  },
  {
   "cell_type": "markdown",
   "metadata": {},
   "source": [
    "#### 그래프"
   ]
  },
  {
   "cell_type": "code",
   "execution_count": 9,
   "metadata": {},
   "outputs": [],
   "source": [
    "th = [10, 20, 40, 80]\n",
    "marker = ['^', 's', 'h', 'o']"
   ]
  },
  {
   "cell_type": "code",
   "execution_count": 20,
   "metadata": {},
   "outputs": [
    {
     "data": {
      "image/png": "[encoded data removed]",
      "text/plain": [
       "<Figure size 432x288 with 1 Axes>"
      ]
     },
     "metadata": {
      "needs_background": "light"
     },
     "output_type": "display_data"
    }
   ],
   "source": [
    "for i in range(4):\n",
    "    result = []\n",
    "    for j in range(5):\n",
    "        result.append(durations[j][i])\n",
    "    \n",
    "    plt.plot(X, result, marker=marker[i], label=\"# of cluster = {}\".format(th[i]))\n",
    "\n",
    "\n",
    "plt.xlabel(\"Number of data\")\n",
    "plt.ylabel(\"Execution time\")\n",
    "\n",
    "plt.yscale('log')\n",
    "plt.legend(loc='upper left', fontsize=10)\n",
    "\n",
    "plt.show()"
   ]
  }
 ],
 "metadata": {
  "kernelspec": {
   "display_name": "Python 3",
   "language": "python",
   "name": "python3"
  },
  "language_info": {
   "codemirror_mode": {
    "name": "ipython",
    "version": 3
   },
   "file_extension": ".py",
   "mimetype": "text/x-python",
   "name": "python",
   "nbconvert_exporter": "python",
   "pygments_lexer": "ipython3",
   "version": "3.6.9"
  }
 },
 "nbformat": 4,
 "nbformat_minor": 4
}
