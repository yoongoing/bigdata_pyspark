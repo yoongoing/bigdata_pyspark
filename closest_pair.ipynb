{
 "cells": [
  {
   "cell_type": "markdown",
   "metadata": {},
   "source": [
    "# 빅데이터처리\n",
    "## 2016003709 윤가영"
   ]
  },
  {
   "cell_type": "code",
   "execution_count": 1,
   "metadata": {},
   "outputs": [],
   "source": [
    "import matplotlib.pyplot as plt\n",
    "import numpy as np\n",
    "import time"
   ]
  },
  {
   "cell_type": "markdown",
   "metadata": {},
   "source": [
    "# Misc Functions"
   ]
  },
  {
   "cell_type": "code",
   "execution_count": 2,
   "metadata": {},
   "outputs": [],
   "source": [
    "def create_dataset(N, minval=[0, 0], maxval=[1, 1]):\n",
    "    dataset = np.zeros((N, 3))\n",
    "\n",
    "    x_data = np.random.rand(N) * (maxval[0] - minval[0]) + minval[0]\n",
    "    y_data = np.random.rand(N) * (maxval[1] - minval[1]) + minval[1]\n",
    "\n",
    "    dataset[:, 0] = np.arange(N)\n",
    "    dataset[:, 1] = x_data\n",
    "    dataset[:, 2] = y_data\n",
    "\n",
    "    return dataset\n",
    "\n",
    "def plot_dataset(dataset):\n",
    "    plt.figure(figsize=(8, 8))\n",
    "    plt.scatter(dataset[:, 1], dataset[:, 2])\n",
    "    plt.show()\n",
    "\n",
    "\n",
    "def sort_dataset(dataset, axis=\"x\"):\n",
    "    if axis == \"x\":\n",
    "        axis = 1\n",
    "    elif axis == \"y\":\n",
    "        axis = 2\n",
    "\n",
    "    N = dataset.shape[0] \n",
    "    datapoints = []\n",
    "    for i in range(N):\n",
    "        datapoints.append(list(dataset[i]))\n",
    "\n",
    "    sorted_dataset = np.stack(list(sorted(datapoints, key=lambda p: p[axis])))\n",
    "\n",
    "    return sorted_dataset"
   ]
  },
  {
   "cell_type": "code",
   "execution_count": 3,
   "metadata": {},
   "outputs": [],
   "source": [
    "def compute_median(dataset, axis=\"x\"):\n",
    "    \"\"\"\n",
    "    주어진 데이터포인트에 대해 median 값 반환\n",
    "    \"\"\"\n",
    "    \n",
    "    if axis == \"x\":\n",
    "        axis = 1\n",
    "    elif axis == \"y\":\n",
    "        axis = 2\n",
    "        \n",
    "    median = np.median(dataset[:, axis])\n",
    "    \n",
    "    return median"
   ]
  },
  {
   "cell_type": "code",
   "execution_count": 4,
   "metadata": {},
   "outputs": [],
   "source": [
    "def compute_distance(p1, p2):\n",
    "    \"\"\"\n",
    "    주어진 2개 데이터포인트에 대해 거리 계산\n",
    "    \"\"\"\n",
    "    \n",
    "    distance = np.sqrt(np.sum((p1[1:] - p2[1:])**2))\n",
    "    return distance"
   ]
  },
  {
   "cell_type": "code",
   "execution_count": 5,
   "metadata": {},
   "outputs": [],
   "source": [
    "def get_median_points(sorted_dataset, median, d, axis=\"x\"):\n",
    "    \"\"\"\n",
    "    Median 근처의 데이터포인트(좌우 d 이하로 떨어진) 찾아서 반환\n",
    "    MOTE: sorted_dataset은 axis와 반대 축으로 정렬된 리스트여야 함\n",
    "          -> 여기서는 항상 y_sorted_dataset\n",
    "    \"\"\"\n",
    "    \n",
    "    if axis == \"x\":\n",
    "        axis = 1\n",
    "    elif axis == \"y\":\n",
    "        axis = 2\n",
    "    \n",
    "    filtered_dataset = sorted_dataset[\n",
    "        (sorted_dataset[:, axis] >= median - d) & (sorted_dataset[:, axis] <= median + d)\n",
    "    ]\n",
    "    return filtered_dataset"
   ]
  },
  {
   "cell_type": "markdown",
   "metadata": {},
   "source": [
    "#### 기울기를 측정하여 세점이 일직선을 이루거나 한점일 경우 false를, 아니면  true를 반환한다."
   ]
  },
  {
   "cell_type": "code",
   "execution_count": 6,
   "metadata": {},
   "outputs": [],
   "source": [
    "def compute_gradient(p1, p2, p3):\n",
    "    if(p1[1]==p2[1]==p3[1] and p1[2]==p2[2]==p3[2]):\n",
    "        return False\n",
    "    grad1 = (p1[2] - p2[2]) / (p1[1] - p2[1])\n",
    "    grad2 = (p1[2] - p3[2]) / (p1[1] - p3[1])\n",
    "    grad3 = (p2[2] - p3[2]) / (p2[1] - p3[1])\n",
    "    return False if (grad1==grad2==grad3) else True"
   ]
  },
  {
   "cell_type": "markdown",
   "metadata": {},
   "source": [
    "# Merge\n",
    "\n",
    "메디안 앞뒤로 왼쪽, 오른쪽 구역에 걸쳐있는 점의 쌍의 거리를 계산한다."
   ]
  },
  {
   "cell_type": "code",
   "execution_count": 7,
   "metadata": {},
   "outputs": [],
   "source": [
    "def compute_median_closest_trip(median_datapoints, d, along_axis=\"y\"):\n",
    "    \"\"\"\n",
    "    Median 근처 데이터포인트들에서 closest trip 계산 -> merge\n",
    "    \"\"\"\n",
    "    \n",
    "    if along_axis == \"x\":\n",
    "        along_axis = 1\n",
    "    elif along_axis == \"y\":\n",
    "        along_axis = 2\n",
    "    \n",
    "    N = median_datapoints.shape[0]\n",
    "    min_distance = d\n",
    "    closest_point_trip = None\n",
    "    \n",
    "    if N > 0:\n",
    "        # y축 기준 제일 작은 포인트부터 루프\n",
    "        for i in range(N):\n",
    "            dp = median_datapoints[i]\n",
    "\n",
    "            filtered_median_datapoints = []\n",
    "            \n",
    "            for j in range(i+1, N): \n",
    "                \n",
    "                for k in range(j+1, N):\n",
    "                    filtered_median_pair = []\n",
    "                    \n",
    "                    p1 = median_datapoints[j]\n",
    "                    p2 = median_datapoints[k]\n",
    "                    \n",
    "                    # 현재 데이터포인트부터 y축 값이 큰 값의 데이터포인트를 차례대로 얻어오고, 그 값이 범위내에 있는지 검사\n",
    "                    if (p1[along_axis] <= dp[along_axis] + d) and (p2[along_axis] <= dp[along_axis] + d) and\\\n",
    "                        compute_gradient(dp,p1,p2):\n",
    "                        filtered_median_pair.append(p1)\n",
    "                        filtered_median_pair.append(p2)\n",
    "                        \n",
    "                        filtered_median_datapoints.append(filtered_median_pair)\n",
    "                    \n",
    "                    # 범위내에 없으면 더 검사할 필요 없이 break   \n",
    "                    else:\n",
    "                        break\n",
    "            \n",
    "            if len(filtered_median_datapoints) == 0:\n",
    "                    continue\n",
    "                \n",
    "            # 편의를 위해 numpy array로 바꿔주는 코드\n",
    "            filtered_median_datapoints = np.stack(filtered_median_datapoints, axis=0)\n",
    "\n",
    "            # 걸러진 포인트개수\n",
    "            M = filtered_median_datapoints.shape[0]\n",
    "\n",
    "            # closest trip 계산\n",
    "            for j in range(M):\n",
    "                p1 = filtered_median_datapoints[j][0]\n",
    "                p2 = filtered_median_datapoints[j][1]\n",
    "                \n",
    "                d1 = compute_distance(dp, p1)\n",
    "                d2 = compute_distance(dp, p2)\n",
    "                d3 = compute_distance(p1, p2)\n",
    "                \n",
    "                dist = d1 + d2 + d3\n",
    "\n",
    "                if dist < min_distance:\n",
    "                    min_distance = dist\n",
    "                    closest_point_trip = (dp, p1, p2)\n",
    "                \n",
    "    return closest_point_trip"
   ]
  },
  {
   "cell_type": "markdown",
   "metadata": {},
   "source": [
    "# Divide-and-Conquer Algorithm"
   ]
  },
  {
   "cell_type": "code",
   "execution_count": 8,
   "metadata": {},
   "outputs": [],
   "source": [
    "def compute_closest_trip(x_sorted_dataset, y_sorted_dataset):\n",
    "    \"\"\"\n",
    "    Closest trip 계산 알고리즘\n",
    "    \"\"\"\n",
    "    \n",
    "    N = x_sorted_dataset.shape[0]\n",
    "    if N <= 2:                  # 해당 영역에 데이터포인트가 하나 혹은 2개밖에 없는 경우\n",
    "        return None\n",
    "    \n",
    "    elif N == 3 :               # 해당 영역에 데이터포인트가 3개있는 경우\n",
    "        p1 = x_sorted_dataset[0]\n",
    "        p2 = x_sorted_dataset[1]\n",
    "        p3 = x_sorted_dataset[2]\n",
    "        \n",
    "        #p1~p3가 같은점이거나, 한직선위에 있지 않다면 3쌍 반환\n",
    "        if(compute_gradient(p1,p2,p3)):\n",
    "            return (p1, p2, p3)\n",
    "        else:\n",
    "            return None\n",
    "    \n",
    "    else:                       # 해당 영역에 데이터포인트가 3개 초과인 경우\n",
    "        # median 값 계산\n",
    "        x_median = compute_median(x_sorted_dataset, axis=\"x\")\n",
    "        \n",
    "        # median 값 기준으로 좌우로 데이터셋을 나눔\n",
    "        dataset_left_x = x_sorted_dataset[x_sorted_dataset[:, 1] <= x_median]\n",
    "        dataset_right_x = x_sorted_dataset[x_sorted_dataset[:, 1] > x_median]\n",
    "        \n",
    "        dataset_left_y = y_sorted_dataset[y_sorted_dataset[:, 1] <= x_median]\n",
    "        dataset_right_y = y_sorted_dataset[y_sorted_dataset[:, 1] > x_median]\n",
    "        \n",
    "        # 좌우 영역에서 각각 closest trip 계산\n",
    "        trip_left = compute_closest_trip(dataset_left_x, dataset_left_y)\n",
    "        trip_right = compute_closest_trip(dataset_right_x, dataset_right_y)\n",
    "\n",
    "        \n",
    "        if trip_left is None:  # 좌측 영역에 데이터포인트가 1개 혹은 2개밖에 없었을 경우\n",
    "            min_distance_left = np.inf\n",
    "        else:\n",
    "            d1 = compute_distance(trip_left[0], trip_left[1])\n",
    "            d2 = compute_distance(trip_left[0], trip_left[2])\n",
    "            d3 = compute_distance(trip_left[1], trip_left[2])\n",
    "            min_distance_left = d1 + d2 + d3\n",
    "            \n",
    "        if trip_right is None: # 우측 영역에 데이터포인트가 1개 혹은 2개밖에 없었을 경우\n",
    "            min_distance_right = np.inf\n",
    "        else:\n",
    "            d1 = compute_distance(trip_right[0], trip_right[1])\n",
    "            d2 = compute_distance(trip_right[0], trip_right[2])\n",
    "            d3 = compute_distance(trip_right[1], trip_right[2])\n",
    "            min_distance_right = d1 + d2 + d3\n",
    "        \n",
    "        min_distance = np.inf\n",
    "        # 좌우측의 closest trip 바탕으로 전체(?) closest trip 계산\n",
    "        if min_distance_left < min_distance_right:\n",
    "            min_distance = min_distance_left\n",
    "            closest_trip = trip_left\n",
    "        elif min_distance_left > min_distance_right:\n",
    "            min_distance = min_distance_right\n",
    "            closest_trip = trip_right\n",
    "        \n",
    "        # median 근처의 데이터포인트만 얻어옴\n",
    "        median_points = get_median_points(y_sorted_dataset, x_median, min_distance, axis=\"x\")\n",
    "        \n",
    "        # median 근처 포인트들 중에서 closest trip 계산\n",
    "        median_closest_trip = compute_median_closest_trip(median_points, min_distance, along_axis=\"y\")\n",
    "        \n",
    "        # closest trip가 median 근처에 있었을 경우, global closest trip 업데이트\n",
    "        if median_closest_trip is not None:\n",
    "            closest_trip = median_closest_trip\n",
    "        \n",
    "        return closest_trip"
   ]
  },
  {
   "cell_type": "markdown",
   "metadata": {},
   "source": [
    "# Test"
   ]
  },
  {
   "cell_type": "code",
   "execution_count": 9,
   "metadata": {},
   "outputs": [
    {
     "name": "stdout",
     "output_type": "stream",
     "text": [
      "(array([45.        ,  0.2116222 ,  0.20463105]), array([83.        ,  0.1989095 ,  0.20589384]), array([62.        ,  0.2051137 ,  0.21855651]))\n"
     ]
    }
   ],
   "source": [
    "dataset = create_dataset(N=100)\n",
    "x_sorted_dataset = sort_dataset(dataset, axis=\"x\")\n",
    "y_sorted_dataset = sort_dataset(dataset, axis=\"y\")\n",
    "\n",
    "trip = compute_closest_trip(x_sorted_dataset, y_sorted_dataset)\n",
    "print(trip)"
   ]
  },
  {
   "cell_type": "code",
   "execution_count": 10,
   "metadata": {},
   "outputs": [
    {
     "data": {
      "text/plain": [
       "(array([45.        ,  0.2116222 ,  0.20463105]),\n",
       " array([83.        ,  0.1989095 ,  0.20589384]),\n",
       " array([62.        ,  0.2051137 ,  0.21855651]))"
      ]
     },
     "execution_count": 10,
     "metadata": {},
     "output_type": "execute_result"
    }
   ],
   "source": [
    "trip"
   ]
  },
  {
   "cell_type": "code",
   "execution_count": 11,
   "metadata": {},
   "outputs": [],
   "source": [
    "def check(dataset):\n",
    "    N = dataset.shape[0]\n",
    "    \n",
    "    min_tri = np.inf\n",
    "    closest_trip = None\n",
    "    \n",
    "    for i in range(N):\n",
    "        for j in range(i + 1, N):\n",
    "            for k in range(j + 1 , N):\n",
    "                p1 = dataset[i]\n",
    "                p2 = dataset[j]\n",
    "                p3 = dataset[k]\n",
    "                \n",
    "                if(compute_gradient(p1,p2,p3)):\n",
    "                    d1 = compute_distance(p1, p2)\n",
    "                    d2 = compute_distance(p2, p3)\n",
    "                    d3 = compute_distance(p1, p3)\n",
    "\n",
    "                    tri = d1 + d2 + d3\n",
    "\n",
    "                    if tri < min_tri:\n",
    "                        min_tri = tri\n",
    "                        closest_trip = (p1, p2, p3)\n",
    "                \n",
    "    return closest_trip"
   ]
  },
  {
   "cell_type": "code",
   "execution_count": 12,
   "metadata": {},
   "outputs": [
    {
     "name": "stdout",
     "output_type": "stream",
     "text": [
      "(array([45.        ,  0.2116222 ,  0.20463105]), array([62.        ,  0.2051137 ,  0.21855651]), array([83.        ,  0.1989095 ,  0.20589384]))\n"
     ]
    }
   ],
   "source": [
    "trip_check = check(dataset)\n",
    "print(trip_check)"
   ]
  },
  {
   "cell_type": "code",
   "execution_count": 13,
   "metadata": {},
   "outputs": [],
   "source": [
    "import sys"
   ]
  },
  {
   "cell_type": "markdown",
   "metadata": {},
   "source": [
    "부동 소수점으로 인한 오차를 없애기 위해 두 결과값의 차이가 앱실론보다 착으면 true를 반환한다.<br/>\n",
    "실제로 똑같은 좌표가 추출됐지만, 부동소수점으로 인해 틀리다고 나왔고, 두결과값의 오차가 앱실론보다 작을때만 허용했더니 테스트 성공을 이루었다."
   ]
  },
  {
   "cell_type": "code",
   "execution_count": 14,
   "metadata": {},
   "outputs": [],
   "source": [
    "def compare_floating_point(approx, actual):\n",
    "    return (True if abs(approx - actual) <= sys.float_info.epsilon else False)"
   ]
  },
  {
   "cell_type": "code",
   "execution_count": 15,
   "metadata": {},
   "outputs": [],
   "source": [
    "def unit_test(n_iter):\n",
    "    for i in range(n_iter):\n",
    "        test_dataset = create_dataset(N=100)\n",
    "        x_sorted_test_dataset = sort_dataset(test_dataset, axis=\"x\")\n",
    "        y_sorted_test_dataset = sort_dataset(test_dataset, axis=\"y\")\n",
    "\n",
    "        trip1 = compute_closest_trip(x_sorted_test_dataset, y_sorted_test_dataset)\n",
    "        trip2 = check(test_dataset)\n",
    "        \n",
    "        d1 = compute_distance(trip1[0], trip1[1])\n",
    "        d2 = compute_distance(trip1[1], trip1[2])\n",
    "        d3 = compute_distance(trip1[0], trip1[2])\n",
    "        tri1 = d1 + d2 + d3\n",
    "\n",
    "        d1 = compute_distance(trip2[0], trip2[1])\n",
    "        d2 = compute_distance(trip2[1], trip2[2])\n",
    "        d3 = compute_distance(trip2[0], trip2[2])\n",
    "        tri2 = d1 + d2 + d3\n",
    "        \n",
    "        assert compare_floating_point(tri1,tri2), f\"테스트실패! trip1: {trip1}, trip2: {trip2}, distance: {tri1}, {tri2}\"\n",
    "        \n",
    "    print(\"테스트성공\")"
   ]
  },
  {
   "cell_type": "code",
   "execution_count": 16,
   "metadata": {},
   "outputs": [
    {
     "name": "stdout",
     "output_type": "stream",
     "text": [
      "테스트성공\n"
     ]
    }
   ],
   "source": [
    "unit_test(10)"
   ]
  },
  {
   "cell_type": "markdown",
   "metadata": {},
   "source": [
    "# 실행시간 그래프"
   ]
  },
  {
   "cell_type": "code",
   "execution_count": 17,
   "metadata": {},
   "outputs": [],
   "source": [
    "def test_with_n(N):\n",
    "    dataset = create_dataset(N)\n",
    "    \n",
    "    start_time = time.time()\n",
    "    x_sorted_test_dataset = sort_dataset(dataset, axis=\"x\")\n",
    "    y_sorted_test_dataset = sort_dataset(dataset, axis=\"y\")\n",
    "    \n",
    "    closest_pair = compute_closest_trip(x_sorted_test_dataset, y_sorted_test_dataset)\n",
    "    duration = time.time() - start_time\n",
    "    \n",
    "    return duration"
   ]
  },
  {
   "cell_type": "code",
   "execution_count": 18,
   "metadata": {},
   "outputs": [],
   "source": [
    "def test_naive_with_n(N):\n",
    "    dataset = create_dataset(N)\n",
    "    start_time = time.time()\n",
    "    closest_pair = check(dataset)\n",
    "    duration = time.time() - start_time\n",
    "    \n",
    "    return duration"
   ]
  },
  {
   "cell_type": "code",
   "execution_count": 19,
   "metadata": {},
   "outputs": [],
   "source": [
    "Ns = [100, 500, 1000, 5000, 10000, 50000, 100000]\n",
    "\n",
    "durations = []\n",
    "for n in Ns:\n",
    "    duration = 0.0\n",
    "    for i in range(3):\n",
    "        duration += test_with_n(n)\n",
    "        \n",
    "    durations.append(duration/3)"
   ]
  },
  {
   "cell_type": "markdown",
   "metadata": {},
   "source": [
    "#### [500개, 1000개] 코드실행시, 각각 30분을 훌쩍 넘겨서 500과 1000의 코드동작을 skip"
   ]
  },
  {
   "cell_type": "code",
   "execution_count": 20,
   "metadata": {},
   "outputs": [],
   "source": [
    "naive_Ns = [100, 500, 1000]\n",
    "\n",
    "naive_durations = []\n",
    "for n in naive_Ns:\n",
    "    duration = 0.0\n",
    "    if(n==1000 or n==500):\n",
    "        continue\n",
    "    for i in range(3):\n",
    "        duration += test_naive_with_n(n)\n",
    "        \n",
    "    naive_durations.append(duration/3)"
   ]
  },
  {
   "cell_type": "code",
   "execution_count": 21,
   "metadata": {},
   "outputs": [
    {
     "data": {
      "text/plain": [
       "[8.261820316314697]"
      ]
     },
     "execution_count": 21,
     "metadata": {},
     "output_type": "execute_result"
    }
   ],
   "source": [
    "naive_durations"
   ]
  },
  {
   "cell_type": "markdown",
   "metadata": {},
   "source": [
    "#### 대신 임의로 [500개, 1000개]에 대한 실행시간을 40분 걸렸다고 넣어, 아래 그래프에서 30분까지만 보이도록 설정"
   ]
  },
  {
   "cell_type": "code",
   "execution_count": 22,
   "metadata": {},
   "outputs": [],
   "source": [
    "naive_durations.append(400.)\n",
    "naive_durations.append(400.)"
   ]
  },
  {
   "cell_type": "code",
   "execution_count": 23,
   "metadata": {},
   "outputs": [
    {
     "data": {
      "image/png": "[encoded data removed]",
      "text/plain": [
       "<Figure size 432x288 with 1 Axes>"
      ]
     },
     "metadata": {
      "needs_background": "light"
     },
     "output_type": "display_data"
    }
   ],
   "source": [
    "#plt.figure(figsize=(8, 8))\n",
    "plt.plot(Ns, durations, linestyle='-', marker='o')\n",
    "plt.plot(naive_Ns, naive_durations, linestyle=':', marker='s')\n",
    "plt.ylim(0,300)\n",
    "plt.xlabel(\"Number of datapoints\")\n",
    "plt.ylabel(\"Execution time\")\n",
    "plt.title(\"Execution time of Closest Triangle point\")\n",
    "plt.xscale('log')\n",
    "plt.show()"
   ]
  }
 ],
 "metadata": {
  "kernelspec": {
   "display_name": "Python 3",
   "language": "python",
   "name": "python3"
  },
  "language_info": {
   "codemirror_mode": {
    "name": "ipython",
    "version": 3
   },
   "file_extension": ".py",
   "mimetype": "text/x-python",
   "name": "python",
   "nbconvert_exporter": "python",
   "pygments_lexer": "ipython3",
   "version": "3.7.6"
  }
 },
 "nbformat": 4,
 "nbformat_minor": 4
}
