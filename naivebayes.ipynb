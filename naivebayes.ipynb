{
 "cells": [
  {
   "cell_type": "markdown",
   "metadata": {},
   "source": [
    "# 빅데이터처리\n",
    "## Week09_Quiz\n",
    "### 2016003709 윤가영"
   ]
  },
  {
   "cell_type": "code",
   "execution_count": 1,
   "metadata": {},
   "outputs": [],
   "source": [
    "# To find out where the pyspark\n",
    "import findspark\n",
    "findspark.init()"
   ]
  },
  {
   "cell_type": "code",
   "execution_count": 2,
   "metadata": {},
   "outputs": [],
   "source": [
    "# Creating Spark Context\n",
    "from pyspark import SparkContext\n",
    "sc = SparkContext(\"local\", \"first app\")"
   ]
  },
  {
   "cell_type": "code",
   "execution_count": 3,
   "metadata": {},
   "outputs": [],
   "source": [
    "import matplotlib.pyplot as plt\n",
    "import numpy as np\n",
    "import math\n",
    "import time\n",
    "import copy"
   ]
  },
  {
   "cell_type": "markdown",
   "metadata": {},
   "source": [
    "#### KFold 모듈 호출"
   ]
  },
  {
   "cell_type": "code",
   "execution_count": 4,
   "metadata": {},
   "outputs": [],
   "source": [
    "from sklearn.model_selection import KFold"
   ]
  },
  {
   "cell_type": "code",
   "execution_count": 5,
   "metadata": {},
   "outputs": [],
   "source": [
    "import csv"
   ]
  },
  {
   "cell_type": "code",
   "execution_count": 6,
   "metadata": {},
   "outputs": [],
   "source": [
    "def create_dataset():\n",
    "    f = open('./W09/income_evaluation.csv', 'r', encoding='utf-8')\n",
    "    rdr = csv.reader(f)\n",
    "\n",
    "    dataset = []\n",
    "    for line in rdr:\n",
    "        dataset.append(line)\n",
    "    f.close()   \n",
    "    \n",
    "    return np.array(dataset)"
   ]
  },
  {
   "cell_type": "markdown",
   "metadata": {},
   "source": [
    "#### NaiveBayes 클래스 생성"
   ]
  },
  {
   "cell_type": "code",
   "execution_count": 10,
   "metadata": {},
   "outputs": [],
   "source": [
    "class NaiveBayes:\n",
    "\n",
    "    def find_prob(self, t):\n",
    "        \"\"\"\n",
    "        해당 tuple(key)에 해당하는 probability 반환.\n",
    "        key가 없거나 확률이 0인경우 매우 작은 수(1e-18) 대체\n",
    "        \"\"\"\n",
    "        result = [0 for _ in range(2)]\n",
    "        \n",
    "        if(t not in self.x_y2.keys()):\n",
    "            result = [1e-18,1e-18]\n",
    "            return result\n",
    "        \n",
    "        prob_list = self.x_y2[t]\n",
    "        \n",
    "        for prob in prob_list:\n",
    "            result[prob[0]] = prob[1]\n",
    "\n",
    "        for i in range(2):\n",
    "            if result[i] == 0:\n",
    "                result[i] = 1e-18\n",
    "        return result\n",
    "    \n",
    "    def fit(self, X):\n",
    "        \"\"\"\n",
    "        self.y = p(y)\n",
    "        self.x_y = p(x|y)\n",
    "        self.x_y2 = self.x_y를 dictionary형태로 변환하여 저장한것\n",
    "        \"\"\"\n",
    "        yRDD = sc.parallelize(X).map(lambda x: (0 if x[14] == ' <=50K' else 1,1)).reduceByKey(lambda x, y: x + y)\n",
    "        y = sc.broadcast(yRDD.collect())\n",
    "        yRDD = yRDD.mapValues(lambda x: x/X.shape[0])\n",
    "        \n",
    "        x_y = sc.parallelize(X).flatMap(lambda x: [((column, t, 0 if x[14] == ' <=50K' else 1),1) for column, t in enumerate(x[:-1])]).reduceByKey(lambda x,y: x+y).map(lambda x: (x[0], x[1]/y.value[x[0][2]][1]))\n",
    "        x_y2 = x_y.map(lambda pair: ((pair[0][0], pair[0][1]), (pair[0][2], pair[1]))).groupByKey().mapValues(list).collect()\n",
    "        self.y = yRDD.collect()\n",
    "        self.x_y = x_y.collect()\n",
    "        self.x_y2 = dict(x_y2)\n",
    "    \n",
    "    def predict(self, X):\n",
    "        \"\"\"\n",
    "        test set X가 들어온다면 해당 조건에 맞는 probability를 곱하여 ' <=50K' 인지 ' >50K'인지 결과 반환\n",
    "        \"\"\"\n",
    "        result = []\n",
    "        for x in X:\n",
    "            p = [self.y[0][1], self.y[1][1]]\n",
    "            for idx, key in enumerate(x):\n",
    "                prob = self.find_prob((idx, key))\n",
    "                p[0] *= prob[0]\n",
    "                p[1] *= prob[1]\n",
    "            if(p[0] >= p[1]):\n",
    "                result.append(0)\n",
    "            elif(p[0] < p[1]):\n",
    "                result.append(1)\n",
    "        \n",
    "        self.predict = result\n",
    "        return result\n",
    "    \n",
    "    def score(self, answer):\n",
    "        \"\"\"\n",
    "        정답률 계산\n",
    "        \"\"\"\n",
    "        cnt = 0\n",
    "        for i in range(len(answer)):\n",
    "            if(answer[i] == self.predict[i]):\n",
    "                cnt += 1\n",
    "        return cnt/len(answer) * 100"
   ]
  },
  {
   "cell_type": "markdown",
   "metadata": {},
   "source": [
    "#### Quiz09 답안"
   ]
  },
  {
   "cell_type": "code",
   "execution_count": 8,
   "metadata": {},
   "outputs": [],
   "source": [
    "def solution():\n",
    "    X = create_dataset()\n",
    "    kf = KFold(n_splits=10)\n",
    "    \n",
    "    score_sum = 0\n",
    "    i = 1\n",
    "    \n",
    "    for train_index, test_index in kf.split(X):\n",
    "        train, test = X[train_index], X[test_index]\n",
    "        X_test = test[:,:-1]\n",
    "        answer = [0 if x == ' <=50K' else 1 for x in test[:,14]]\n",
    "\n",
    "        naive = NaiveBayes()\n",
    "        naive.fit(train)\n",
    "        predict = naive.predict(X_test)\n",
    "        score = naive.score(answer)\n",
    "        print(\"round {}: {}\".format(i,score))\n",
    "\n",
    "        score_sum += score\n",
    "        i += 1\n",
    "\n",
    "    print(\"====================================================\")\n",
    "    \n",
    "    score_average = score_sum / 10\n",
    "    print(score_average)"
   ]
  },
  {
   "cell_type": "code",
   "execution_count": 9,
   "metadata": {},
   "outputs": [
    {
     "name": "stdout",
     "output_type": "stream",
     "text": [
      "round 1: 79.33681301811482\n",
      "round 2: 80.2272029474977\n",
      "round 3: 80.98894348894349\n",
      "round 4: 80.497542997543\n",
      "round 5: 80.62039312039312\n",
      "round 6: 81.51105651105651\n",
      "round 7: 80.98894348894349\n",
      "round 8: 80.8046683046683\n",
      "round 9: 80.4054054054054\n",
      "round 10: 80.12899262899262\n",
      "====================================================\n",
      "80.55099619115585\n"
     ]
    }
   ],
   "source": [
    "solution()"
   ]
  }
 ],
 "metadata": {
  "kernelspec": {
   "display_name": "Python 3",
   "language": "python",
   "name": "python3"
  },
  "language_info": {
   "codemirror_mode": {
    "name": "ipython",
    "version": 3
   },
   "file_extension": ".py",
   "mimetype": "text/x-python",
   "name": "python",
   "nbconvert_exporter": "python",
   "pygments_lexer": "ipython3",
   "version": "3.6.9"
  }
 },
 "nbformat": 4,
 "nbformat_minor": 4
}
