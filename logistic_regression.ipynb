{
 "cells": [
  {
   "cell_type": "markdown",
   "metadata": {},
   "source": [
    "# 빅데이터처리\n",
    "## Week10_Quiz\n",
    "### 2016003709 윤가영"
   ]
  },
  {
   "cell_type": "code",
   "execution_count": 1,
   "metadata": {},
   "outputs": [],
   "source": [
    "# To find out where the pyspark\n",
    "import findspark\n",
    "findspark.init()"
   ]
  },
  {
   "cell_type": "code",
   "execution_count": 2,
   "metadata": {},
   "outputs": [],
   "source": [
    "# Creating Spark Context\n",
    "from pyspark import SparkContext\n",
    "sc = SparkContext(\"local\", \"first app\")"
   ]
  },
  {
   "cell_type": "code",
   "execution_count": 3,
   "metadata": {},
   "outputs": [],
   "source": [
    "import matplotlib.pyplot as plt\n",
    "import numpy as np\n",
    "import math\n",
    "import time\n",
    "import copy"
   ]
  },
  {
   "cell_type": "markdown",
   "metadata": {},
   "source": [
    "#### KFold 모듈 호출"
   ]
  },
  {
   "cell_type": "code",
   "execution_count": 4,
   "metadata": {},
   "outputs": [],
   "source": [
    "from sklearn.model_selection import KFold"
   ]
  },
  {
   "cell_type": "code",
   "execution_count": 5,
   "metadata": {},
   "outputs": [],
   "source": [
    "import csv"
   ]
  },
  {
   "cell_type": "markdown",
   "metadata": {},
   "source": [
    "#### cardiovascular.txt를 불러, 불필요한 데이터 정제 및 데이터 정규화를 하는 함수"
   ]
  },
  {
   "cell_type": "code",
   "execution_count": 6,
   "metadata": {},
   "outputs": [],
   "source": [
    "def create_data():\n",
    "    data = sc.textFile('./W10/cardiovascular.txt')\\\n",
    "                  .map(lambda line: str(line).split(';'))\\\n",
    "                  .map(lambda line: line[1:]).collect()[1:] \n",
    "    data = np.array(sc.parallelize(data).map(lambda line: convertor(line)).collect())\n",
    "    \n",
    "    sample = data[:,:-1]\n",
    "    label = data[:,-1].reshape(data.shape[0],1)\n",
    "\n",
    "    for i in range(len(sample)):\n",
    "        sample[i] = sample[i] / float(sample[i].sum())\n",
    "    labeled_data = np.hstack((sample, label))\n",
    "    \n",
    "    return labeled_data"
   ]
  },
  {
   "cell_type": "markdown",
   "metadata": {},
   "source": [
    "#### present를 1, absent를 0으로 바꾸고, 각 string을 float로 변환하는 함수"
   ]
  },
  {
   "cell_type": "code",
   "execution_count": 7,
   "metadata": {},
   "outputs": [],
   "source": [
    "def convertor(line):\n",
    "    if line[4] == 'Present':\n",
    "        line[4] = 1\n",
    "    else:\n",
    "        line[4] = 0\n",
    "    \n",
    "    size = len(line)\n",
    "    for i in range(size):\n",
    "        line[i] = float(line[i])\n",
    "        \n",
    "    return line"
   ]
  },
  {
   "cell_type": "markdown",
   "metadata": {},
   "source": [
    "#### LogisticRegression 클래스 생성"
   ]
  },
  {
   "cell_type": "code",
   "execution_count": 19,
   "metadata": {},
   "outputs": [],
   "source": [
    "class LogisticRegression:\n",
    "    \"\"\"\n",
    "    self.data    = 입력데이터\n",
    "    self.B       = 최적화된 가중치값\n",
    "    self.predict = 예측값\n",
    "    self.score   = 정확도\n",
    "    \"\"\"\n",
    "    \n",
    "    def set_data(self, data):\n",
    "        \"\"\"\n",
    "        맵함수의 입력데이터를 정의하는 함수\n",
    "        \"\"\"\n",
    "        input_data = sc.parallelize(data).map(lambda line: (np.array(line[:-1]), line[-1])).collect()\n",
    "        self.data = input_data\n",
    "    \n",
    "    \n",
    "    def calculate_likelihood(self, B):\n",
    "        \"\"\"\n",
    "        오차 계산을 위한 likelihood 식을 계산해주는 함수\n",
    "        \"\"\"\n",
    "        sum_ = 0\n",
    "        for node in self.data:\n",
    "            sum_ += (node[1] * np.log(math.exp(np.dot(B, node[0])))) + \\\n",
    "                    ((1 - node[1]) * np.log(math.exp(1-np.dot(B, node[0]))))\n",
    "        return sum_\n",
    "    \n",
    "    \n",
    "    def fit(self, data, B, maxIter=120, convergenceTol=0.001, learning_rate=0.01):\n",
    "        \"\"\"\n",
    "        최적화된 가중치값 찾는 함수\n",
    "        \"\"\"\n",
    "        self.set_data(data)\n",
    "        \n",
    "        prev = self.calculate_likelihood(B)\n",
    "        cnt = 0\n",
    "        flag = 0\n",
    "        \n",
    "        for _ in range(maxIter):\n",
    "            gradient = sc.parallelize(self.data)\\\n",
    "                         .map(lambda p: (p[1] - 1/(1 + math.exp(-np.dot(B, p[0])))) * p[0]).sum()\n",
    "            B = B + (learning_rate * gradient)\n",
    "\n",
    "            err = self.calculate_likelihood(B)        \n",
    "            if(abs(prev - err) < convergenceTol):\n",
    "                self.B = B\n",
    "                break\n",
    "            elif(abs(prev - err) < 0):\n",
    "                cnt += 1\n",
    "            \n",
    "            # 일정수준 오차가 좁혀졌는데, 그 이상으로 좁혀지지 않을때 조금씩 이동하도록 수정\n",
    "            if(cnt>10 and flag==0): \n",
    "                flag = 1\n",
    "                learning_rate = 0.001\n",
    "            \n",
    "            prev = err\n",
    "        \n",
    "        self.B = B\n",
    "        \n",
    "    \n",
    "    def predict(self, X):\n",
    "        \"\"\"\n",
    "        예측값 구하는 함수\n",
    "        \"\"\"\n",
    "        result = []\n",
    "        \n",
    "        for line in X:\n",
    "            predict = round(math.exp(np.dot(self.B, line)))\n",
    "            result.append(predict)\n",
    "        \n",
    "        self.predict = result\n",
    "        \n",
    "        return self.predict\n",
    "    \n",
    "    \n",
    "    def score(self, answer):\n",
    "        \"\"\"\n",
    "        정답률 계산하는 함수\n",
    "        \"\"\"\n",
    "        cnt = 0\n",
    "        for i in range(len(answer)):\n",
    "            if(answer[i] == self.predict[i]):\n",
    "                cnt += 1\n",
    "        \n",
    "        self.score = cnt/len(answer) * 100\n",
    "        \n",
    "        return self.score"
   ]
  },
  {
   "cell_type": "markdown",
   "metadata": {},
   "source": [
    "#### Quiz10 답안"
   ]
  },
  {
   "cell_type": "code",
   "execution_count": 17,
   "metadata": {},
   "outputs": [],
   "source": [
    "def solution():\n",
    "    X = create_data()\n",
    "    kf = KFold(n_splits=10)\n",
    "    \n",
    "    score_sum = 0\n",
    "    i = 1\n",
    "\n",
    "    for train_index, test_index in kf.split(X):\n",
    "        train, test = X[train_index], X[test_index]\n",
    "        B = np.random.permutation(9)\n",
    "\n",
    "        X_test = test[:,:-1]\n",
    "        answer = test[:,-1]\n",
    "\n",
    "        lr = LogisticRegression()\n",
    "        lr.fit(train, B)\n",
    "            \n",
    "        predict = lr.predict(X_test)\n",
    "        print(lr.predict)\n",
    "        print(answer)\n",
    "        score = lr.score(answer)\n",
    "        print(\"round {}: {}\".format(i,score))\n",
    "\n",
    "        score_sum += score\n",
    "        i += 1\n",
    "\n",
    "    print(\"====================================================\")\n",
    "    \n",
    "    score_average = score_sum / 10\n",
    "    print(score_average)\n",
    "    \n",
    "    return score_average"
   ]
  },
  {
   "cell_type": "code",
   "execution_count": 21,
   "metadata": {
    "scrolled": true
   },
   "outputs": [
    {
     "name": "stdout",
     "output_type": "stream",
     "text": [
      "[1, 1, 1, 1, 1, 1, 0, 1, 0, 1, 1, 0, 0, 0, 1, 1, 1, 1, 1, 1, 0, 1, 0, 1, 1, 1, 1, 1, 1, 1, 0, 0, 1, 1, 0, 1, 0, 1, 0, 1, 0, 0, 0, 1, 0, 0, 1]\n",
      "[1. 1. 0. 1. 1. 0. 0. 1. 0. 1. 1. 1. 0. 0. 0. 0. 0. 1. 1. 1. 1. 0. 0. 0.\n",
      " 0. 1. 0. 1. 0. 1. 1. 1. 1. 1. 0. 1. 0. 0. 0. 1. 1. 0. 0. 1. 0. 0. 1.]\n",
      "round 1: 65.95744680851064\n",
      "[1, 0, 0, 1, 1, 0, 1, 1, 1, 0, 1, 0, 1, 0, 0, 1, 0, 0, 1, 0, 0, 1, 0, 0, 0, 1, 0, 0, 0, 1, 1, 1, 1, 1, 1, 1, 1, 0, 1, 1, 0, 0, 1, 0, 1, 0, 1]\n",
      "[1. 0. 0. 0. 0. 1. 1. 0. 0. 0. 1. 0. 0. 0. 0. 0. 0. 0. 0. 0. 0. 0. 1. 0.\n",
      " 0. 0. 0. 0. 0. 0. 1. 1. 0. 1. 1. 1. 1. 0. 0. 1. 0. 0. 0. 0. 1. 0. 1.]\n",
      "round 2: 68.08510638297872\n",
      "[0, 1, 0, 0, 1, 0, 1, 0, 1, 0, 1, 1, 1, 0, 1, 0, 1, 1, 0, 0, 1, 1, 0, 0, 1, 1, 1, 1, 1, 1, 1, 1, 0, 1, 1, 1, 1, 1, 0, 1, 1, 1, 1, 0, 0, 1]\n",
      "[0. 0. 0. 0. 1. 0. 0. 0. 0. 0. 0. 0. 1. 1. 0. 0. 0. 1. 0. 1. 1. 0. 1. 0.\n",
      " 1. 0. 0. 0. 0. 1. 0. 1. 0. 0. 1. 0. 0. 1. 1. 0. 0. 1. 0. 0. 0. 0.]\n",
      "round 3: 47.82608695652174\n",
      "[1, 0, 0, 1, 1, 0, 0, 1, 1, 1, 0, 1, 0, 0, 1, 1, 0, 1, 0, 1, 1, 1, 0, 0, 0, 1, 1, 0, 0, 1, 0, 0, 1, 0, 1, 1, 0, 0, 1, 1, 0, 1, 0, 0, 1, 0]\n",
      "[1. 1. 0. 0. 0. 0. 0. 1. 1. 1. 0. 0. 0. 0. 1. 1. 0. 0. 0. 1. 0. 1. 0. 0.\n",
      " 0. 0. 1. 1. 0. 0. 0. 0. 0. 0. 0. 1. 0. 0. 0. 0. 0. 0. 1. 1. 1. 1.]\n",
      "round 4: 63.04347826086957\n",
      "[1, 1, 1, 1, 0, 1, 1, 0, 0, 0, 0, 0, 1, 0, 0, 0, 0, 1, 1, 0, 0, 1, 1, 1, 1, 1, 1, 0, 0, 1, 0, 0, 0, 0, 0, 1, 1, 1, 1, 1, 1, 1, 1, 0, 1, 1]\n",
      "[0. 0. 0. 1. 1. 1. 1. 0. 0. 0. 0. 0. 1. 0. 0. 1. 0. 0. 0. 0. 0. 0. 0. 0.\n",
      " 0. 1. 0. 0. 0. 1. 1. 0. 0. 0. 0. 1. 0. 1. 0. 0. 1. 1. 1. 1. 1. 0.]\n",
      "round 5: 60.86956521739131\n",
      "[1, 0, 1, 1, 1, 1, 0, 0, 1, 0, 1, 1, 1, 0, 0, 0, 0, 1, 1, 0, 0, 0, 1, 1, 1, 0, 1, 1, 0, 0, 0, 1, 1, 0, 0, 1, 0, 1, 1, 1, 0, 0, 0, 1, 0, 1]\n",
      "[1. 0. 0. 1. 0. 0. 0. 0. 1. 0. 0. 1. 1. 0. 1. 0. 0. 1. 0. 0. 1. 0. 0. 1.\n",
      " 1. 0. 1. 0. 1. 0. 0. 0. 1. 0. 0. 0. 0. 1. 1. 1. 0. 0. 1. 1. 1. 0.]\n",
      "round 6: 67.3913043478261\n",
      "[0, 0, 1, 1, 0, 0, 1, 0, 0, 0, 0, 1, 0, 0, 0, 1, 1, 0, 0, 0, 1, 0, 0, 0, 0, 1, 0, 1, 1, 1, 1, 1, 0, 1, 0, 0, 0, 1, 0, 1, 0, 1, 1, 0, 0, 1]\n",
      "[0. 0. 1. 0. 1. 0. 1. 0. 0. 0. 0. 1. 0. 0. 0. 1. 0. 1. 0. 0. 1. 0. 0. 1.\n",
      " 0. 1. 0. 0. 0. 1. 0. 0. 1. 0. 1. 0. 0. 0. 0. 0. 1. 0. 0. 0. 0. 1.]\n",
      "round 7: 63.04347826086957\n",
      "[0, 0, 0, 0, 0, 0, 0, 1, 1, 0, 0, 1, 1, 0, 1, 2, 1, 1, 1, 1, 1, 1, 0, 0, 0, 0, 1, 1, 0, 1, 1, 1, 1, 1, 0, 0, 1, 1, 1, 1, 1, 1, 0, 0, 1, 0]\n",
      "[0. 1. 0. 0. 0. 0. 0. 0. 1. 1. 1. 0. 1. 0. 0. 0. 0. 1. 1. 0. 0. 1. 1. 0.\n",
      " 1. 0. 0. 0. 1. 1. 0. 1. 0. 0. 0. 0. 1. 0. 0. 0. 1. 0. 0. 0. 0. 0.]\n",
      "round 8: 50.0\n",
      "[1, 1, 1, 1, 1, 1, 1, 1, 1, 1, 0, 1, 1, 0, 1, 1, 0, 1, 0, 1, 0, 1, 0, 1, 1, 0, 1, 1, 1, 0, 1, 1, 0, 0, 1, 1, 1, 1, 1, 0, 1, 1, 1, 0, 1, 1]\n",
      "[1. 0. 0. 0. 0. 0. 0. 0. 0. 1. 0. 0. 1. 0. 0. 1. 0. 1. 0. 1. 1. 1. 0. 0.\n",
      " 0. 0. 0. 1. 1. 0. 0. 0. 1. 1. 0. 0. 1. 1. 0. 0. 1. 0. 1. 1. 0. 1.]\n",
      "round 9: 47.82608695652174\n",
      "[1, 0, 0, 1, 2, 0, 1, 0, 0, 1, 1, 1, 0, 0, 0, 0, 0, 0, 0, 0, 0, 0, 0, 0, 1, 0, 1, 0, 1, 0, 0, 0, 0, 1, 0, 0, 1, 1, 0, 1, 0, 0, 0, 1, 1, 1]\n",
      "[0. 0. 0. 0. 0. 0. 1. 1. 1. 0. 0. 0. 0. 0. 0. 0. 0. 0. 0. 0. 0. 0. 0. 0.\n",
      " 0. 0. 0. 0. 0. 0. 1. 0. 0. 1. 0. 0. 0. 1. 1. 1. 0. 0. 1. 0. 0. 1.]\n",
      "round 10: 63.04347826086957\n",
      "====================================================\n",
      "59.7086031452359\n"
     ]
    }
   ],
   "source": [
    "score_average = solution()"
   ]
  },
  {
   "cell_type": "code",
   "execution_count": 22,
   "metadata": {},
   "outputs": [
    {
     "data": {
      "text/plain": [
       "59.7086031452359"
      ]
     },
     "execution_count": 22,
     "metadata": {},
     "output_type": "execute_result"
    }
   ],
   "source": [
    "score_average"
   ]
  }
 ],
 "metadata": {
  "kernelspec": {
   "display_name": "Python 3",
   "language": "python",
   "name": "python3"
  },
  "language_info": {
   "codemirror_mode": {
    "name": "ipython",
    "version": 3
   },
   "file_extension": ".py",
   "mimetype": "text/x-python",
   "name": "python",
   "nbconvert_exporter": "python",
   "pygments_lexer": "ipython3",
   "version": "3.6.9"
  }
 },
 "nbformat": 4,
 "nbformat_minor": 4
}
